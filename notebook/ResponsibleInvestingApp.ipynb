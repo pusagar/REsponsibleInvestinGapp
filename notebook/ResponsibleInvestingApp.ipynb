{
 "cells": [
  {
   "cell_type": "markdown",
   "metadata": {
    "id": "ZyYWZAQ2xu0G"
   },
   "source": [
    "<center><img src=\"https://github.com/girishksahu/INSAID2021/blob/SMART_AI_Learning/INSAID_Full%20Logo.png?raw=true\" width=\"240\" height=\"100\" /></center>"
   ]
  },
  {
   "cell_type": "markdown",
   "metadata": {
    "id": "5mkv4UHgEipa"
   },
   "source": [
    "<h1><center>GRMDS Project - Responsible Investing</center><h1>"
   ]
  },
  {
   "cell_type": "markdown",
   "metadata": {
    "id": "ssyIiSn2Eipb"
   },
   "source": [
    "<center><img width=40% src=\"https://github.com/girishksahu/RMDS_Project_Responsible_Investing/blob/SMART_AI_Learning/image/responsible-investing.jpg?raw=true\"></center>"
   ]
  },
  {
   "cell_type": "markdown",
   "metadata": {
    "id": "Rrs4ecLVxxyB"
   },
   "source": [
    "---\n",
    "# **Table of Contents**\n",
    "---\n",
    "\n",
    "**1.** [**Introduction**](#Section1)<br>\n",
    "**2.** [**Problem Statement**](#Section2)<br>\n",
    "**3.** [**Importing Libraries**](#Section3)<br>\n",
    "  - **3.1** [**Version Check**](#Section31)\n",
    "  - **3.2** [**Importing Libraries**](#Section32)\n",
    "\n",
    "**4.** [**Data Acquisition & Description**](#Section4)<br>\n",
    "  - **4.1** [**Data Description**](#Section41)\n",
    "  - **4.2** [**Data Information**](#Section42)\n",
    "\n",
    "**5.** [**Data Pre-processing**](#Section5)<br>\n",
    "  - **5.1** [**Data Pre-profiling**](#Section51)<br>\n",
    "  - **5.2** [**Data Pre-Processing**](#Section52)<br>\n",
    "  - **5.3** [**Data Post-profiling**](#Section53)<br>\n",
    "\n",
    "**6.** [**Exploratory Data Analysis**](#Section6)<br>\n",
    "**7.** [**Data Post-Processing**](#Section7)<br>\n",
    "  - **7.1** [**Data Encoding**](#Section71)<br> \n",
    "  - **7.2** [**Data Preparation**](#Section72)<br>\n",
    "  - **7.3** [**Data Scaling**](#Section73)<br>\n",
    "\n",
    "**8.** [**Model Development & Evaluation**](#Section8)<br>\n",
    "**9.** [**Summary**](#Section9)<br>\n",
    "  - **9.1** [**Conclusion**](#Section91)<br>"
   ]
  },
  {
   "cell_type": "markdown",
   "metadata": {
    "id": "TtA6ebp2x1m1"
   },
   "source": [
    "---\n",
    "<a name = Section1></a>\n",
    "# **1. Introduction**\n",
    "---\n",
    "\n",
    "- Your client for this project is a Data Science Solution Provider.\n",
    "\n",
    "   \n",
    "**<h3>Current Scenario:</h3>**\n",
    "\n",
    "- Need to create a dashboard for Responsible Investing."
   ]
  },
  {
   "cell_type": "markdown",
   "metadata": {
    "id": "6PD50alP7PbO"
   },
   "source": [
    "---\n",
    "<a name = Section2></a>\n",
    "# **2. Problem Statement**\n",
    "---\n",
    "\n",
    "- The company has hired you as a data science consultant to provide a dashboard for Responsible Investing.\n",
    "\n",
    "<a name = Section21></a>\n",
    "### **Your Role**\n",
    "\n",
    "- You are given a dataset of Funds and their sustainability rating.\n",
    "\n",
    "- Your task is to build a classification model using the dataset.\n",
    "\n",
    "     - Because there was no machine learning model for this problem in the company, you don’t have a quantifiable win condition.  \n",
    "     - You need to build the best possible model.\n",
    "\n",
    "<a name = Section21></a>\n",
    "### **Project Deliverables**\n",
    "- Deliverable: **Predict whether Fund is considered a Responsible Investing**\n",
    "\n",
    "- Machine Learning Task: **Classification.**\n",
    "\n",
    "- Target Variable: **Responsible Investing (Yes / No)**\n",
    "- Win Condition: **N/A (best possible model)**\n",
    "\n",
    "<a name = Section21></a>\n",
    "### **Evaluation Metric**\n",
    "\n",
    "- The model evaluation will be based on the Accuracy score."
   ]
  },
  {
   "cell_type": "markdown",
   "metadata": {
    "id": "uqq_eeCl7T--"
   },
   "source": [
    "---\n",
    "<a name = Section3></a>\n",
    "# **3. Importing Libraries**\n",
    "---"
   ]
  },
  {
   "cell_type": "markdown",
   "metadata": {
    "id": "RM7-_O1X7Vvn"
   },
   "source": [
    "<a name = Section31></a>\n",
    "### **3.1 Version Check**"
   ]
  },
  {
   "cell_type": "code",
   "execution_count": 1,
   "metadata": {
    "ExecuteTime": {
     "end_time": "2022-02-12T09:03:08.915089Z",
     "start_time": "2022-02-12T09:03:08.899644Z"
    },
    "colab": {
     "base_uri": "https://localhost:8080/"
    },
    "id": "vy7KwPADEipm",
    "outputId": "508f2cf9-a160-417f-e67f-8742d8708043"
   },
   "outputs": [
    {
     "name": "stdout",
     "output_type": "stream",
     "text": [
      "python version 3.8.8\n"
     ]
    }
   ],
   "source": [
    "from platform import python_version\n",
    "\n",
    "# Printing version of Python to ensure correct version is used for this project\n",
    "print(\"python version\", python_version())\n",
    "#!pip list\n",
    "#!pip show\n"
   ]
  },
  {
   "cell_type": "markdown",
   "metadata": {
    "id": "WTASHFS47cFv"
   },
   "source": [
    "<a name = Section32></a>\n",
    "### **3.2 Importing Libraries**"
   ]
  },
  {
   "cell_type": "code",
   "execution_count": 2,
   "metadata": {
    "colab": {
     "base_uri": "https://localhost:8080/"
    },
    "id": "IvwRw1f77a-U",
    "outputId": "f70439c2-41c9-4ec1-a892-b5cf41ee1acd"
   },
   "outputs": [
    {
     "name": "stdout",
     "output_type": "stream",
     "text": [
      "pandas version 1.2.2\n",
      "numpy version 1.20.1\n",
      "seaborn version 0.11.1\n",
      "sklearn version 1.0.2\n"
     ]
    }
   ],
   "source": [
    "#------------------------------------------------------------------------------------------------------------------------------\n",
    "import pandas as pd                                                 # Importing for panel data analysis\n",
    "from pandas_profiling import ProfileReport                          # Import Pandas Profiling (To generate Univariate Analysis)\n",
    "pd.set_option('display.max_columns', None)                          # Unfolding hidden features if the cardinality is high\n",
    "pd.set_option('display.max_rows', None)                             # Unfolding hidden data points if the cardinality is high\n",
    "pd.set_option('mode.chained_assignment', None)                      # Removing restriction over chained assignments operations\n",
    "#-------------------------------------------------------------------------------------------------------------------------------\n",
    "import numpy as np                                                  # Importing package numpys (For Numerical Python)\n",
    "from scipy.stats import randint as sp_randint                       # For initializing random integer values\n",
    "#-------------------------------------------------------------------------------------------------------------------------------\n",
    "import matplotlib.pyplot as plt                                     # Importing pyplot interface using matplotlib\n",
    "import seaborn as sns                                               # Importin seaborm library for interactive visualization\n",
    "%matplotlib inline\n",
    "import sklearn.metrics\n",
    "#-------------------------------------------------------------------------------------------------------------------------------\n",
    "from sklearn.preprocessing import StandardScaler                    # To scaled data with mean 0 and variance 1\n",
    "from sklearn.preprocessing import MinMaxScaler\n",
    "from sklearn.model_selection import RandomizedSearchCV              # To find best hyperparamter setting for the algorithm\n",
    "from sklearn.metrics import classification_report                   # To generate classification report\n",
    "from sklearn.metrics import plot_confusion_matrix                   # To plot confusion matrix\n",
    "#import pydotplus                                                    # To generate pydot file\n",
    "from IPython.display import Image                                   # To generate image using pydot file\n",
    "#-------------------------------------------------------------------------------------------------------------------------------\n",
    "#-------------------------------------------------------------------------------------------------------------------------------\n",
    "from sklearn.metrics import accuracy_score                          # For calculating the accuracy for the model\n",
    "from sklearn.metrics import precision_score                         # For calculating the Precision of the model\n",
    "from sklearn.metrics import recall_score                            # For calculating the recall of the model\n",
    "from sklearn.metrics import precision_recall_curve                  # For precision and recall metric estimation\n",
    "from sklearn.metrics import confusion_matrix                        # For verifying model performance using confusion matrix\n",
    "from sklearn.metrics import f1_score                                # For Checking the F1-Score of our model  \n",
    "from sklearn.metrics import roc_curve                               # For Roc-Auc metric estimation\n",
    "from sklearn.metrics import plot_roc_curve\n",
    "#-------------------------------------------------------------------------------------------------------------------------------\n",
    "from sklearn.model_selection import train_test_split                # To split the data in training and testing part     \n",
    "from sklearn.linear_model import LogisticRegression                 # To create the Logistic Regression Model\n",
    "from sklearn.tree import DecisionTreeClassifier \n",
    "from sklearn.model_selection import cross_val_score\n",
    "from sklearn.model_selection import KFold\n",
    "from sklearn.model_selection import StratifiedKFold\n",
    "from sklearn.pipeline import Pipeline\n",
    "from sklearn.pipeline import make_pipeline\n",
    "#-------------------------------------------------------------------------------------------------------------------------------\n",
    "import warnings                                                     # Importing warning to disable runtime warnings\n",
    "warnings.filterwarnings(\"ignore\")                                   # Warnings will appear only once\n",
    "\n",
    "#Printing version of few key libraries to ensure correct once are used\n",
    "print (\"pandas version\", pd.__version__)\n",
    "print (\"numpy version\", np.__version__)\n",
    "print (\"seaborn version\", sns.__version__)\n",
    "print (\"sklearn version\", sklearn.__version__)"
   ]
  },
  {
   "cell_type": "markdown",
   "metadata": {
    "id": "UrpwmWxc7iif"
   },
   "source": [
    "---\n",
    "<a name = Section4></a>\n",
    "# **4. Data Acquisition & Description**\n",
    "---\n",
    "\n",
    "- The **dataset** consists of all the necessary information about the Funds like Name, Ticker, Morningstar sustainability rating, Yield, Morningstar category, etc.\n",
    "\n",
    "\n",
    "| Records | Features | Dataset Size |\n",
    "| :-- | :-- | :-- |\n",
    "| 6003 | 29 | 1.3+ MB | \n",
    "\n",
    "<br>\n",
    "\n",
    "| ID | Feature Name | Description of the feature |\n",
    "| :-- | :--| :--| \n",
    "|01| **Name**   | Name of the Fund |\n",
    "|02| **Ticker**      | An abbreviation of the fund's name|\n",
    "|03| **Morningstar sustainability rating**        | The rating of the sustainability from the Morningstar|\n",
    "|04| **Yield**          | The income return of a mutual fund|\n",
    "|05| **Morningstar category**      | Fund category by location size and type |\n",
    "|06| **Portfolio sustainability score**           | Financial sustainability score on this portfolio|\n",
    "|07| **Portfolio environmental score**     | Environmental sustainability score on this portfolio|\n",
    "|08| **Portfolio social score**        | Social sustainability score on this portfolio  |\n",
    "|09| **Portfolio governance**          | Governance sustainability score on this portfolio      |\n",
    "|10| **Sustainable investment by prospectus**         |Binary value claimed as sustainable investment or not  |\n",
    "|11| **Sustainable investment - ESG Fund**     | Binary value claimed as ESG fund or not   |\n",
    "|12| **Sustainable investment - Impact Fund**     | \tBinary value claimed as Impact fund or not     |\n",
    "|13| **Sustainable investment - Environmental Sector Fund**     | Binary value claimed as Environmental sector fund or not     |\n",
    "|14| **Animal testing**     | Binary value if the fund is related to animal testing           |\n",
    "|15| **%Alcohol**     | Percentage of the fund related to alcohol            |\n",
    "|16| **%Fossil Fuels**     | Percentage of the fund related to fossil fuels       |\n",
    "|17| **%Small Arms**     | Percentage of the fund related to small arms                         |\n",
    "|18| **%Thermal Coal**     | Percentage of the fund related to thermal coal  |\n",
    "|19| **%Tobacco**     | Percentage of the fund related to tobacco            |\n",
    "|20| **YTD Return(%)**     | The amount of profit (or loss) realized by an investment since the first trading day of the current calendar year           |\n",
    "|21| **1 Year Annualized(%)**     | the geometric average amount of money earned by an investment each year over a given time period |\n",
    "|22| **3 Year Annualized(%)**     | 3-year annualized total return  |\n",
    "|23| **5 Year Annualized(%)**     | 5-year annualized total return  |\n",
    "|24| **10 Year Annualized(%)**     |10-year annualized total return |\n",
    "|25| **Fund Size (Mil)**     | dollars size of the fund  |\n",
    "|26| **Equity StyleBox**     | stylebox defined by Morningstar  |\n",
    "|27| **Fixed Income StyleBox**     | stylebox defined by Morningstar  |\n",
    "|28| **Average Market Cap (Mil)**     | The geometric mean of the market capitalizations of the stocks a fund owns |\n",
    "|29| **Average Credit Quality**     |Average credit quality gives a snapshot of the portfolio's overall credit quality. It is an average of each bond's credit rating, adjusted for its relative weighting in the portfolio |\n",
    "\n",
    "<br>"
   ]
  },
  {
   "cell_type": "markdown",
   "metadata": {
    "id": "XFqXRKo690e5"
   },
   "source": [
    "- Load Funds train dataset to be used for Training and Validation"
   ]
  },
  {
   "cell_type": "code",
   "execution_count": 62,
   "metadata": {
    "colab": {
     "base_uri": "https://localhost:8080/",
     "height": 340
    },
    "id": "xxBLyDgo7a7H",
    "outputId": "ff7fdde7-471b-49ce-c07e-b355e8998926"
   },
   "outputs": [
    {
     "name": "stdout",
     "output_type": "stream",
     "text": [
      "Shape of the Training and Validation dataset: (6003, 29)\n"
     ]
    },
    {
     "data": {
      "text/html": [
       "<div>\n",
       "<style scoped>\n",
       "    .dataframe tbody tr th:only-of-type {\n",
       "        vertical-align: middle;\n",
       "    }\n",
       "\n",
       "    .dataframe tbody tr th {\n",
       "        vertical-align: top;\n",
       "    }\n",
       "\n",
       "    .dataframe thead th {\n",
       "        text-align: right;\n",
       "    }\n",
       "</style>\n",
       "<table border=\"1\" class=\"dataframe\">\n",
       "  <thead>\n",
       "    <tr style=\"text-align: right;\">\n",
       "      <th></th>\n",
       "      <th>Name</th>\n",
       "      <th>Ticker</th>\n",
       "      <th>Morningstar Sustainability Rating</th>\n",
       "      <th>Yield (%)</th>\n",
       "      <th>Morningstar Category</th>\n",
       "      <th>Portfolio Sustainability Score</th>\n",
       "      <th>Portfolio Environmental Score</th>\n",
       "      <th>Portfolio Social Score</th>\n",
       "      <th>Portfolio Governance Score</th>\n",
       "      <th>Sustainable Investment by Prospectus</th>\n",
       "      <th>Sustainable Investment - ESG Fund</th>\n",
       "      <th>Sustainable Investment - Impact Fund</th>\n",
       "      <th>Sustainable Investment - Environmental Sector Fund</th>\n",
       "      <th>Animal Testing</th>\n",
       "      <th>% Alcohol</th>\n",
       "      <th>% Fossil Fuels</th>\n",
       "      <th>% Small Arms</th>\n",
       "      <th>% Thermal Coal</th>\n",
       "      <th>% Tobacco</th>\n",
       "      <th>YTD Return (%)</th>\n",
       "      <th>1 Year Annualized (%)</th>\n",
       "      <th>3 Years Annualized (%)</th>\n",
       "      <th>5 Years Annualized (%)</th>\n",
       "      <th>10 Years Annualized (%)</th>\n",
       "      <th>Fund Size (Mil)</th>\n",
       "      <th>Equity StyleBox</th>\n",
       "      <th>Fixed Income StyleBox</th>\n",
       "      <th>Average Market Cap (Mil)</th>\n",
       "      <th>Average Credit Quality</th>\n",
       "    </tr>\n",
       "  </thead>\n",
       "  <tbody>\n",
       "    <tr>\n",
       "      <th>0</th>\n",
       "      <td>AB Sustainable Intl Thematic C</td>\n",
       "      <td>AWPCX</td>\n",
       "      <td>3.0</td>\n",
       "      <td>0.00</td>\n",
       "      <td>Global Equity Large Cap</td>\n",
       "      <td>20.67</td>\n",
       "      <td>4.21</td>\n",
       "      <td>8.13</td>\n",
       "      <td>6.92</td>\n",
       "      <td>Yes</td>\n",
       "      <td>Yes</td>\n",
       "      <td>Yes</td>\n",
       "      <td>No</td>\n",
       "      <td>0</td>\n",
       "      <td>0.0</td>\n",
       "      <td>3.73</td>\n",
       "      <td>0.0</td>\n",
       "      <td>1.90</td>\n",
       "      <td>0.0</td>\n",
       "      <td>8.22</td>\n",
       "      <td>24.74</td>\n",
       "      <td>19.32</td>\n",
       "      <td>12.27</td>\n",
       "      <td>7.50</td>\n",
       "      <td>941.47</td>\n",
       "      <td>Large Growth</td>\n",
       "      <td>NaN</td>\n",
       "      <td>32,187.09</td>\n",
       "      <td>BBB</td>\n",
       "    </tr>\n",
       "    <tr>\n",
       "      <th>1</th>\n",
       "      <td>AB Sustainable Thematic Credit A</td>\n",
       "      <td>STHAX</td>\n",
       "      <td>5.0</td>\n",
       "      <td>NaN</td>\n",
       "      <td>US Fixed Income</td>\n",
       "      <td>21.27</td>\n",
       "      <td>3.39</td>\n",
       "      <td>8.11</td>\n",
       "      <td>6.78</td>\n",
       "      <td>Yes</td>\n",
       "      <td>Yes</td>\n",
       "      <td>Yes</td>\n",
       "      <td>No</td>\n",
       "      <td>0</td>\n",
       "      <td>0.0</td>\n",
       "      <td>8.24</td>\n",
       "      <td>0.0</td>\n",
       "      <td>2.25</td>\n",
       "      <td>0.0</td>\n",
       "      <td>8.22</td>\n",
       "      <td>24.74</td>\n",
       "      <td>19.32</td>\n",
       "      <td>12.27</td>\n",
       "      <td>7.50</td>\n",
       "      <td>174.22</td>\n",
       "      <td>NaN</td>\n",
       "      <td>NaN</td>\n",
       "      <td>32,187.09</td>\n",
       "      <td>BBB</td>\n",
       "    </tr>\n",
       "    <tr>\n",
       "      <th>2</th>\n",
       "      <td>AB Sustainable Thematic Credit Advisor</td>\n",
       "      <td>STHYX</td>\n",
       "      <td>5.0</td>\n",
       "      <td>NaN</td>\n",
       "      <td>US Fixed Income</td>\n",
       "      <td>21.27</td>\n",
       "      <td>3.39</td>\n",
       "      <td>8.11</td>\n",
       "      <td>6.78</td>\n",
       "      <td>Yes</td>\n",
       "      <td>Yes</td>\n",
       "      <td>Yes</td>\n",
       "      <td>No</td>\n",
       "      <td>0</td>\n",
       "      <td>0.0</td>\n",
       "      <td>8.24</td>\n",
       "      <td>0.0</td>\n",
       "      <td>2.25</td>\n",
       "      <td>0.0</td>\n",
       "      <td>8.22</td>\n",
       "      <td>24.74</td>\n",
       "      <td>19.32</td>\n",
       "      <td>12.27</td>\n",
       "      <td>7.50</td>\n",
       "      <td>174.22</td>\n",
       "      <td>NaN</td>\n",
       "      <td>NaN</td>\n",
       "      <td>32,187.09</td>\n",
       "      <td>BBB</td>\n",
       "    </tr>\n",
       "    <tr>\n",
       "      <th>3</th>\n",
       "      <td>Aberdeen International Sust Ldrs A</td>\n",
       "      <td>BJBIX</td>\n",
       "      <td>3.0</td>\n",
       "      <td>0.54</td>\n",
       "      <td>Global Equity Large Cap</td>\n",
       "      <td>20.99</td>\n",
       "      <td>3.31</td>\n",
       "      <td>8.61</td>\n",
       "      <td>6.60</td>\n",
       "      <td>Yes</td>\n",
       "      <td>Yes</td>\n",
       "      <td>No</td>\n",
       "      <td>No</td>\n",
       "      <td>0</td>\n",
       "      <td>0.0</td>\n",
       "      <td>2.33</td>\n",
       "      <td>0.0</td>\n",
       "      <td>2.34</td>\n",
       "      <td>0.0</td>\n",
       "      <td>11.74</td>\n",
       "      <td>34.20</td>\n",
       "      <td>16.19</td>\n",
       "      <td>11.93</td>\n",
       "      <td>6.09</td>\n",
       "      <td>146.06</td>\n",
       "      <td>Large Growth</td>\n",
       "      <td>NaN</td>\n",
       "      <td>36,331.08</td>\n",
       "      <td>BBB</td>\n",
       "    </tr>\n",
       "    <tr>\n",
       "      <th>4</th>\n",
       "      <td>Aberdeen International Sust Ldrs I</td>\n",
       "      <td>JIEIX</td>\n",
       "      <td>3.0</td>\n",
       "      <td>0.83</td>\n",
       "      <td>Global Equity Large Cap</td>\n",
       "      <td>20.99</td>\n",
       "      <td>3.31</td>\n",
       "      <td>8.61</td>\n",
       "      <td>6.60</td>\n",
       "      <td>Yes</td>\n",
       "      <td>Yes</td>\n",
       "      <td>No</td>\n",
       "      <td>No</td>\n",
       "      <td>0</td>\n",
       "      <td>0.0</td>\n",
       "      <td>2.33</td>\n",
       "      <td>0.0</td>\n",
       "      <td>2.34</td>\n",
       "      <td>0.0</td>\n",
       "      <td>11.99</td>\n",
       "      <td>34.56</td>\n",
       "      <td>16.49</td>\n",
       "      <td>12.20</td>\n",
       "      <td>6.36</td>\n",
       "      <td>146.06</td>\n",
       "      <td>Large Growth</td>\n",
       "      <td>NaN</td>\n",
       "      <td>36,331.08</td>\n",
       "      <td>BBB</td>\n",
       "    </tr>\n",
       "    <tr>\n",
       "      <th>5</th>\n",
       "      <td>Aberdeen US Sust Ldrs Smlr Coms A</td>\n",
       "      <td>MLSAX</td>\n",
       "      <td>1.0</td>\n",
       "      <td>0.00</td>\n",
       "      <td>US Equity Large Cap Growth</td>\n",
       "      <td>25.46</td>\n",
       "      <td>2.49</td>\n",
       "      <td>4.20</td>\n",
       "      <td>3.03</td>\n",
       "      <td>Yes</td>\n",
       "      <td>Yes</td>\n",
       "      <td>No</td>\n",
       "      <td>No</td>\n",
       "      <td>0</td>\n",
       "      <td>0.0</td>\n",
       "      <td>1.38</td>\n",
       "      <td>0.0</td>\n",
       "      <td>0.00</td>\n",
       "      <td>0.0</td>\n",
       "      <td>28.06</td>\n",
       "      <td>53.27</td>\n",
       "      <td>26.72</td>\n",
       "      <td>19.31</td>\n",
       "      <td>10.61</td>\n",
       "      <td>21.34</td>\n",
       "      <td>Mid Growth</td>\n",
       "      <td>NaN</td>\n",
       "      <td>6,832.72</td>\n",
       "      <td>BBB</td>\n",
       "    </tr>\n",
       "    <tr>\n",
       "      <th>6</th>\n",
       "      <td>Aberdeen US Sust Ldrs Smlr Coms C</td>\n",
       "      <td>MLSCX</td>\n",
       "      <td>1.0</td>\n",
       "      <td>0.00</td>\n",
       "      <td>US Equity Large Cap Growth</td>\n",
       "      <td>25.46</td>\n",
       "      <td>2.49</td>\n",
       "      <td>4.20</td>\n",
       "      <td>3.03</td>\n",
       "      <td>Yes</td>\n",
       "      <td>Yes</td>\n",
       "      <td>No</td>\n",
       "      <td>No</td>\n",
       "      <td>0</td>\n",
       "      <td>0.0</td>\n",
       "      <td>1.38</td>\n",
       "      <td>0.0</td>\n",
       "      <td>0.00</td>\n",
       "      <td>0.0</td>\n",
       "      <td>26.89</td>\n",
       "      <td>51.76</td>\n",
       "      <td>25.77</td>\n",
       "      <td>18.41</td>\n",
       "      <td>9.82</td>\n",
       "      <td>21.34</td>\n",
       "      <td>Mid Growth</td>\n",
       "      <td>NaN</td>\n",
       "      <td>6,832.72</td>\n",
       "      <td>BBB</td>\n",
       "    </tr>\n",
       "    <tr>\n",
       "      <th>7</th>\n",
       "      <td>Aberdeen US Sust Ldrs Smlr Coms Instl</td>\n",
       "      <td>GGUIX</td>\n",
       "      <td>1.0</td>\n",
       "      <td>0.00</td>\n",
       "      <td>US Equity Large Cap Growth</td>\n",
       "      <td>25.46</td>\n",
       "      <td>2.49</td>\n",
       "      <td>4.20</td>\n",
       "      <td>3.03</td>\n",
       "      <td>Yes</td>\n",
       "      <td>Yes</td>\n",
       "      <td>No</td>\n",
       "      <td>No</td>\n",
       "      <td>0</td>\n",
       "      <td>0.0</td>\n",
       "      <td>1.38</td>\n",
       "      <td>0.0</td>\n",
       "      <td>0.00</td>\n",
       "      <td>0.0</td>\n",
       "      <td>28.39</td>\n",
       "      <td>53.85</td>\n",
       "      <td>27.15</td>\n",
       "      <td>19.73</td>\n",
       "      <td>10.98</td>\n",
       "      <td>21.34</td>\n",
       "      <td>Mid Growth</td>\n",
       "      <td>NaN</td>\n",
       "      <td>6,832.72</td>\n",
       "      <td>BBB</td>\n",
       "    </tr>\n",
       "    <tr>\n",
       "      <th>8</th>\n",
       "      <td>Aberdeen US Sust Ldrs Smlr Coms InstlSvc</td>\n",
       "      <td>AELSX</td>\n",
       "      <td>1.0</td>\n",
       "      <td>0.00</td>\n",
       "      <td>US Equity Large Cap Growth</td>\n",
       "      <td>25.46</td>\n",
       "      <td>2.49</td>\n",
       "      <td>4.20</td>\n",
       "      <td>3.03</td>\n",
       "      <td>Yes</td>\n",
       "      <td>Yes</td>\n",
       "      <td>No</td>\n",
       "      <td>No</td>\n",
       "      <td>0</td>\n",
       "      <td>0.0</td>\n",
       "      <td>1.38</td>\n",
       "      <td>0.0</td>\n",
       "      <td>0.00</td>\n",
       "      <td>0.0</td>\n",
       "      <td>28.21</td>\n",
       "      <td>53.56</td>\n",
       "      <td>26.96</td>\n",
       "      <td>19.54</td>\n",
       "      <td>10.76</td>\n",
       "      <td>21.34</td>\n",
       "      <td>Mid Growth</td>\n",
       "      <td>NaN</td>\n",
       "      <td>6,832.72</td>\n",
       "      <td>BBB</td>\n",
       "    </tr>\n",
       "    <tr>\n",
       "      <th>9</th>\n",
       "      <td>Aberdeen US Sust Ldrs Smlr Coms R</td>\n",
       "      <td>GLSRX</td>\n",
       "      <td>1.0</td>\n",
       "      <td>0.00</td>\n",
       "      <td>US Equity Large Cap Growth</td>\n",
       "      <td>25.46</td>\n",
       "      <td>2.49</td>\n",
       "      <td>4.20</td>\n",
       "      <td>3.03</td>\n",
       "      <td>Yes</td>\n",
       "      <td>Yes</td>\n",
       "      <td>No</td>\n",
       "      <td>No</td>\n",
       "      <td>0</td>\n",
       "      <td>0.0</td>\n",
       "      <td>1.38</td>\n",
       "      <td>0.0</td>\n",
       "      <td>0.00</td>\n",
       "      <td>0.0</td>\n",
       "      <td>27.54</td>\n",
       "      <td>52.76</td>\n",
       "      <td>26.37</td>\n",
       "      <td>18.94</td>\n",
       "      <td>10.22</td>\n",
       "      <td>21.34</td>\n",
       "      <td>Mid Growth</td>\n",
       "      <td>NaN</td>\n",
       "      <td>6,832.72</td>\n",
       "      <td>BBB</td>\n",
       "    </tr>\n",
       "  </tbody>\n",
       "</table>\n",
       "</div>"
      ],
      "text/plain": [
       "                                       Name Ticker  \\\n",
       "0            AB Sustainable Intl Thematic C  AWPCX   \n",
       "1          AB Sustainable Thematic Credit A  STHAX   \n",
       "2    AB Sustainable Thematic Credit Advisor  STHYX   \n",
       "3        Aberdeen International Sust Ldrs A  BJBIX   \n",
       "4        Aberdeen International Sust Ldrs I  JIEIX   \n",
       "5         Aberdeen US Sust Ldrs Smlr Coms A  MLSAX   \n",
       "6         Aberdeen US Sust Ldrs Smlr Coms C  MLSCX   \n",
       "7     Aberdeen US Sust Ldrs Smlr Coms Instl  GGUIX   \n",
       "8  Aberdeen US Sust Ldrs Smlr Coms InstlSvc  AELSX   \n",
       "9         Aberdeen US Sust Ldrs Smlr Coms R  GLSRX   \n",
       "\n",
       "   Morningstar Sustainability Rating  Yield (%)        Morningstar Category  \\\n",
       "0                                3.0       0.00     Global Equity Large Cap   \n",
       "1                                5.0        NaN             US Fixed Income   \n",
       "2                                5.0        NaN             US Fixed Income   \n",
       "3                                3.0       0.54     Global Equity Large Cap   \n",
       "4                                3.0       0.83     Global Equity Large Cap   \n",
       "5                                1.0       0.00  US Equity Large Cap Growth   \n",
       "6                                1.0       0.00  US Equity Large Cap Growth   \n",
       "7                                1.0       0.00  US Equity Large Cap Growth   \n",
       "8                                1.0       0.00  US Equity Large Cap Growth   \n",
       "9                                1.0       0.00  US Equity Large Cap Growth   \n",
       "\n",
       "   Portfolio Sustainability Score  Portfolio Environmental Score  \\\n",
       "0                           20.67                           4.21   \n",
       "1                           21.27                           3.39   \n",
       "2                           21.27                           3.39   \n",
       "3                           20.99                           3.31   \n",
       "4                           20.99                           3.31   \n",
       "5                           25.46                           2.49   \n",
       "6                           25.46                           2.49   \n",
       "7                           25.46                           2.49   \n",
       "8                           25.46                           2.49   \n",
       "9                           25.46                           2.49   \n",
       "\n",
       "   Portfolio Social Score  Portfolio Governance Score  \\\n",
       "0                    8.13                        6.92   \n",
       "1                    8.11                        6.78   \n",
       "2                    8.11                        6.78   \n",
       "3                    8.61                        6.60   \n",
       "4                    8.61                        6.60   \n",
       "5                    4.20                        3.03   \n",
       "6                    4.20                        3.03   \n",
       "7                    4.20                        3.03   \n",
       "8                    4.20                        3.03   \n",
       "9                    4.20                        3.03   \n",
       "\n",
       "  Sustainable Investment by Prospectus Sustainable Investment - ESG Fund  \\\n",
       "0                                  Yes                               Yes   \n",
       "1                                  Yes                               Yes   \n",
       "2                                  Yes                               Yes   \n",
       "3                                  Yes                               Yes   \n",
       "4                                  Yes                               Yes   \n",
       "5                                  Yes                               Yes   \n",
       "6                                  Yes                               Yes   \n",
       "7                                  Yes                               Yes   \n",
       "8                                  Yes                               Yes   \n",
       "9                                  Yes                               Yes   \n",
       "\n",
       "  Sustainable Investment - Impact Fund  \\\n",
       "0                                  Yes   \n",
       "1                                  Yes   \n",
       "2                                  Yes   \n",
       "3                                   No   \n",
       "4                                   No   \n",
       "5                                   No   \n",
       "6                                   No   \n",
       "7                                   No   \n",
       "8                                   No   \n",
       "9                                   No   \n",
       "\n",
       "  Sustainable Investment - Environmental Sector Fund  Animal Testing  \\\n",
       "0                                                 No               0   \n",
       "1                                                 No               0   \n",
       "2                                                 No               0   \n",
       "3                                                 No               0   \n",
       "4                                                 No               0   \n",
       "5                                                 No               0   \n",
       "6                                                 No               0   \n",
       "7                                                 No               0   \n",
       "8                                                 No               0   \n",
       "9                                                 No               0   \n",
       "\n",
       "   % Alcohol  % Fossil Fuels  % Small Arms  % Thermal Coal  % Tobacco  \\\n",
       "0        0.0            3.73           0.0            1.90        0.0   \n",
       "1        0.0            8.24           0.0            2.25        0.0   \n",
       "2        0.0            8.24           0.0            2.25        0.0   \n",
       "3        0.0            2.33           0.0            2.34        0.0   \n",
       "4        0.0            2.33           0.0            2.34        0.0   \n",
       "5        0.0            1.38           0.0            0.00        0.0   \n",
       "6        0.0            1.38           0.0            0.00        0.0   \n",
       "7        0.0            1.38           0.0            0.00        0.0   \n",
       "8        0.0            1.38           0.0            0.00        0.0   \n",
       "9        0.0            1.38           0.0            0.00        0.0   \n",
       "\n",
       "   YTD Return (%)  1 Year Annualized (%)  3 Years Annualized (%)  \\\n",
       "0            8.22                  24.74                   19.32   \n",
       "1            8.22                  24.74                   19.32   \n",
       "2            8.22                  24.74                   19.32   \n",
       "3           11.74                  34.20                   16.19   \n",
       "4           11.99                  34.56                   16.49   \n",
       "5           28.06                  53.27                   26.72   \n",
       "6           26.89                  51.76                   25.77   \n",
       "7           28.39                  53.85                   27.15   \n",
       "8           28.21                  53.56                   26.96   \n",
       "9           27.54                  52.76                   26.37   \n",
       "\n",
       "   5 Years Annualized (%)  10 Years Annualized (%) Fund Size (Mil)  \\\n",
       "0                   12.27                     7.50          941.47   \n",
       "1                   12.27                     7.50          174.22   \n",
       "2                   12.27                     7.50          174.22   \n",
       "3                   11.93                     6.09          146.06   \n",
       "4                   12.20                     6.36          146.06   \n",
       "5                   19.31                    10.61           21.34   \n",
       "6                   18.41                     9.82           21.34   \n",
       "7                   19.73                    10.98           21.34   \n",
       "8                   19.54                    10.76           21.34   \n",
       "9                   18.94                    10.22           21.34   \n",
       "\n",
       "  Equity StyleBox Fixed Income StyleBox Average Market Cap (Mil)  \\\n",
       "0    Large Growth                   NaN                32,187.09   \n",
       "1             NaN                   NaN                32,187.09   \n",
       "2             NaN                   NaN                32,187.09   \n",
       "3    Large Growth                   NaN                36,331.08   \n",
       "4    Large Growth                   NaN                36,331.08   \n",
       "5      Mid Growth                   NaN                 6,832.72   \n",
       "6      Mid Growth                   NaN                 6,832.72   \n",
       "7      Mid Growth                   NaN                 6,832.72   \n",
       "8      Mid Growth                   NaN                 6,832.72   \n",
       "9      Mid Growth                   NaN                 6,832.72   \n",
       "\n",
       "  Average Credit Quality  \n",
       "0                    BBB  \n",
       "1                    BBB  \n",
       "2                    BBB  \n",
       "3                    BBB  \n",
       "4                    BBB  \n",
       "5                    BBB  \n",
       "6                    BBB  \n",
       "7                    BBB  \n",
       "8                    BBB  \n",
       "9                    BBB  "
      ]
     },
     "execution_count": 62,
     "metadata": {},
     "output_type": "execute_result"
    }
   ],
   "source": [
    "# Load Churn_train.csv\n",
    "funds_df = pd.read_csv(\"../dataset/funds.csv\")\n",
    "\n",
    "# Get the dimesions of data\n",
    "print('Shape of the Training and Validation dataset:', funds_df.shape)\n",
    "\n",
    "# Output first 10 data rows\n",
    "funds_df.head(10)\n"
   ]
  },
  {
   "cell_type": "code",
   "execution_count": 4,
   "metadata": {
    "colab": {
     "base_uri": "https://localhost:8080/"
    },
    "id": "tugM4joIEipv",
    "outputId": "997bf48c-6fc1-4aed-de10-5dfe78d9a9fe"
   },
   "outputs": [
    {
     "data": {
      "text/plain": [
       "True"
      ]
     },
     "execution_count": 4,
     "metadata": {},
     "output_type": "execute_result"
    }
   ],
   "source": [
    "# Check for any missing values\n",
    "any(funds_df.isna().sum())"
   ]
  },
  {
   "cell_type": "code",
   "execution_count": 5,
   "metadata": {
    "colab": {
     "base_uri": "https://localhost:8080/"
    },
    "id": "xD8YT7na90e8",
    "outputId": "c9a62d30-13e2-4777-fa02-a9a785d7a383"
   },
   "outputs": [
    {
     "data": {
      "text/plain": [
       "False"
      ]
     },
     "execution_count": 5,
     "metadata": {},
     "output_type": "execute_result"
    }
   ],
   "source": [
    "#check if any duplicate row\n",
    "any(funds_df.duplicated())"
   ]
  },
  {
   "cell_type": "markdown",
   "metadata": {
    "id": "SpQsei5Q8BGS"
   },
   "source": [
    "<a name = Section41></a>\n",
    "### **4.1 Data Description**\n",
    "\n",
    "- In this section we will get **information about the data** and see some observations."
   ]
  },
  {
   "cell_type": "code",
   "execution_count": 6,
   "metadata": {
    "colab": {
     "base_uri": "https://localhost:8080/",
     "height": 317
    },
    "id": "vmYaroaO7XSG",
    "outputId": "e842635e-8f81-4630-f8d3-9bfaa0584c30"
   },
   "outputs": [
    {
     "data": {
      "text/html": [
       "<div>\n",
       "<style scoped>\n",
       "    .dataframe tbody tr th:only-of-type {\n",
       "        vertical-align: middle;\n",
       "    }\n",
       "\n",
       "    .dataframe tbody tr th {\n",
       "        vertical-align: top;\n",
       "    }\n",
       "\n",
       "    .dataframe thead th {\n",
       "        text-align: right;\n",
       "    }\n",
       "</style>\n",
       "<table border=\"1\" class=\"dataframe\">\n",
       "  <thead>\n",
       "    <tr style=\"text-align: right;\">\n",
       "      <th></th>\n",
       "      <th>count</th>\n",
       "      <th>mean</th>\n",
       "      <th>std</th>\n",
       "      <th>min</th>\n",
       "      <th>25%</th>\n",
       "      <th>50%</th>\n",
       "      <th>75%</th>\n",
       "      <th>max</th>\n",
       "    </tr>\n",
       "  </thead>\n",
       "  <tbody>\n",
       "    <tr>\n",
       "      <th>Morningstar Sustainability Rating</th>\n",
       "      <td>5993.0</td>\n",
       "      <td>3.506257</td>\n",
       "      <td>0.722056</td>\n",
       "      <td>1.00</td>\n",
       "      <td>3.000</td>\n",
       "      <td>3.00</td>\n",
       "      <td>4.000</td>\n",
       "      <td>5.00</td>\n",
       "    </tr>\n",
       "    <tr>\n",
       "      <th>Yield (%)</th>\n",
       "      <td>5910.0</td>\n",
       "      <td>0.958667</td>\n",
       "      <td>1.266840</td>\n",
       "      <td>0.00</td>\n",
       "      <td>0.030</td>\n",
       "      <td>0.67</td>\n",
       "      <td>1.380</td>\n",
       "      <td>34.08</td>\n",
       "    </tr>\n",
       "    <tr>\n",
       "      <th>Portfolio Sustainability Score</th>\n",
       "      <td>5993.0</td>\n",
       "      <td>22.367559</td>\n",
       "      <td>2.868454</td>\n",
       "      <td>10.38</td>\n",
       "      <td>20.770</td>\n",
       "      <td>22.27</td>\n",
       "      <td>23.530</td>\n",
       "      <td>35.20</td>\n",
       "    </tr>\n",
       "    <tr>\n",
       "      <th>Portfolio Environmental Score</th>\n",
       "      <td>5993.0</td>\n",
       "      <td>3.731320</td>\n",
       "      <td>1.522058</td>\n",
       "      <td>0.00</td>\n",
       "      <td>2.980</td>\n",
       "      <td>3.75</td>\n",
       "      <td>4.210</td>\n",
       "      <td>14.04</td>\n",
       "    </tr>\n",
       "    <tr>\n",
       "      <th>Portfolio Social Score</th>\n",
       "      <td>5993.0</td>\n",
       "      <td>8.554747</td>\n",
       "      <td>2.264916</td>\n",
       "      <td>0.00</td>\n",
       "      <td>8.160</td>\n",
       "      <td>9.14</td>\n",
       "      <td>9.850</td>\n",
       "      <td>14.53</td>\n",
       "    </tr>\n",
       "    <tr>\n",
       "      <th>Portfolio Governance Score</th>\n",
       "      <td>5991.0</td>\n",
       "      <td>6.489062</td>\n",
       "      <td>1.584564</td>\n",
       "      <td>0.00</td>\n",
       "      <td>6.300</td>\n",
       "      <td>7.01</td>\n",
       "      <td>7.330</td>\n",
       "      <td>11.20</td>\n",
       "    </tr>\n",
       "    <tr>\n",
       "      <th>% Alcohol</th>\n",
       "      <td>6003.0</td>\n",
       "      <td>0.722409</td>\n",
       "      <td>1.436546</td>\n",
       "      <td>0.00</td>\n",
       "      <td>0.000</td>\n",
       "      <td>0.08</td>\n",
       "      <td>0.900</td>\n",
       "      <td>19.97</td>\n",
       "    </tr>\n",
       "    <tr>\n",
       "      <th>% Fossil Fuels</th>\n",
       "      <td>6003.0</td>\n",
       "      <td>5.893253</td>\n",
       "      <td>9.783290</td>\n",
       "      <td>0.00</td>\n",
       "      <td>1.155</td>\n",
       "      <td>4.82</td>\n",
       "      <td>7.010</td>\n",
       "      <td>100.69</td>\n",
       "    </tr>\n",
       "    <tr>\n",
       "      <th>% Small Arms</th>\n",
       "      <td>6003.0</td>\n",
       "      <td>0.612870</td>\n",
       "      <td>0.959304</td>\n",
       "      <td>0.00</td>\n",
       "      <td>0.000</td>\n",
       "      <td>0.17</td>\n",
       "      <td>0.870</td>\n",
       "      <td>7.91</td>\n",
       "    </tr>\n",
       "    <tr>\n",
       "      <th>% Thermal Coal</th>\n",
       "      <td>6003.0</td>\n",
       "      <td>1.059207</td>\n",
       "      <td>2.722055</td>\n",
       "      <td>0.00</td>\n",
       "      <td>0.000</td>\n",
       "      <td>0.45</td>\n",
       "      <td>1.305</td>\n",
       "      <td>63.91</td>\n",
       "    </tr>\n",
       "    <tr>\n",
       "      <th>% Tobacco</th>\n",
       "      <td>6003.0</td>\n",
       "      <td>0.463227</td>\n",
       "      <td>0.917594</td>\n",
       "      <td>0.00</td>\n",
       "      <td>0.000</td>\n",
       "      <td>0.00</td>\n",
       "      <td>0.620</td>\n",
       "      <td>12.25</td>\n",
       "    </tr>\n",
       "    <tr>\n",
       "      <th>YTD Return (%)</th>\n",
       "      <td>6003.0</td>\n",
       "      <td>12.989029</td>\n",
       "      <td>10.030741</td>\n",
       "      <td>-22.93</td>\n",
       "      <td>6.330</td>\n",
       "      <td>13.43</td>\n",
       "      <td>20.335</td>\n",
       "      <td>60.97</td>\n",
       "    </tr>\n",
       "    <tr>\n",
       "      <th>1 Year Annualized (%)</th>\n",
       "      <td>6003.0</td>\n",
       "      <td>26.164989</td>\n",
       "      <td>16.797509</td>\n",
       "      <td>-20.12</td>\n",
       "      <td>13.820</td>\n",
       "      <td>26.84</td>\n",
       "      <td>38.195</td>\n",
       "      <td>113.53</td>\n",
       "    </tr>\n",
       "    <tr>\n",
       "      <th>3 Years Annualized (%)</th>\n",
       "      <td>6003.0</td>\n",
       "      <td>15.713695</td>\n",
       "      <td>7.289129</td>\n",
       "      <td>-11.17</td>\n",
       "      <td>11.020</td>\n",
       "      <td>15.21</td>\n",
       "      <td>20.020</td>\n",
       "      <td>49.75</td>\n",
       "    </tr>\n",
       "    <tr>\n",
       "      <th>5 Years Annualized (%)</th>\n",
       "      <td>6003.0</td>\n",
       "      <td>13.013440</td>\n",
       "      <td>6.380436</td>\n",
       "      <td>-9.34</td>\n",
       "      <td>9.025</td>\n",
       "      <td>12.71</td>\n",
       "      <td>16.865</td>\n",
       "      <td>36.51</td>\n",
       "    </tr>\n",
       "    <tr>\n",
       "      <th>10 Years Annualized (%)</th>\n",
       "      <td>5965.0</td>\n",
       "      <td>10.943881</td>\n",
       "      <td>4.962711</td>\n",
       "      <td>-5.86</td>\n",
       "      <td>7.570</td>\n",
       "      <td>11.35</td>\n",
       "      <td>14.620</td>\n",
       "      <td>25.53</td>\n",
       "    </tr>\n",
       "  </tbody>\n",
       "</table>\n",
       "</div>"
      ],
      "text/plain": [
       "                                    count       mean        std    min  \\\n",
       "Morningstar Sustainability Rating  5993.0   3.506257   0.722056   1.00   \n",
       "Yield (%)                          5910.0   0.958667   1.266840   0.00   \n",
       "Portfolio Sustainability Score     5993.0  22.367559   2.868454  10.38   \n",
       "Portfolio Environmental Score      5993.0   3.731320   1.522058   0.00   \n",
       "Portfolio Social Score             5993.0   8.554747   2.264916   0.00   \n",
       "Portfolio Governance Score         5991.0   6.489062   1.584564   0.00   \n",
       "% Alcohol                          6003.0   0.722409   1.436546   0.00   \n",
       "% Fossil Fuels                     6003.0   5.893253   9.783290   0.00   \n",
       "% Small Arms                       6003.0   0.612870   0.959304   0.00   \n",
       "% Thermal Coal                     6003.0   1.059207   2.722055   0.00   \n",
       "% Tobacco                          6003.0   0.463227   0.917594   0.00   \n",
       "YTD Return (%)                     6003.0  12.989029  10.030741 -22.93   \n",
       "1 Year Annualized (%)              6003.0  26.164989  16.797509 -20.12   \n",
       "3 Years Annualized (%)             6003.0  15.713695   7.289129 -11.17   \n",
       "5 Years Annualized (%)             6003.0  13.013440   6.380436  -9.34   \n",
       "10 Years Annualized (%)            5965.0  10.943881   4.962711  -5.86   \n",
       "\n",
       "                                      25%    50%     75%     max  \n",
       "Morningstar Sustainability Rating   3.000   3.00   4.000    5.00  \n",
       "Yield (%)                           0.030   0.67   1.380   34.08  \n",
       "Portfolio Sustainability Score     20.770  22.27  23.530   35.20  \n",
       "Portfolio Environmental Score       2.980   3.75   4.210   14.04  \n",
       "Portfolio Social Score              8.160   9.14   9.850   14.53  \n",
       "Portfolio Governance Score          6.300   7.01   7.330   11.20  \n",
       "% Alcohol                           0.000   0.08   0.900   19.97  \n",
       "% Fossil Fuels                      1.155   4.82   7.010  100.69  \n",
       "% Small Arms                        0.000   0.17   0.870    7.91  \n",
       "% Thermal Coal                      0.000   0.45   1.305   63.91  \n",
       "% Tobacco                           0.000   0.00   0.620   12.25  \n",
       "YTD Return (%)                      6.330  13.43  20.335   60.97  \n",
       "1 Year Annualized (%)              13.820  26.84  38.195  113.53  \n",
       "3 Years Annualized (%)             11.020  15.21  20.020   49.75  \n",
       "5 Years Annualized (%)              9.025  12.71  16.865   36.51  \n",
       "10 Years Annualized (%)             7.570  11.35  14.620   25.53  "
      ]
     },
     "execution_count": 6,
     "metadata": {},
     "output_type": "execute_result"
    }
   ],
   "source": [
    "#Basic statistical details for numeric variables\n",
    "funds_df.describe(include=[np.float64]).transpose()"
   ]
  },
  {
   "cell_type": "code",
   "execution_count": 7,
   "metadata": {},
   "outputs": [
    {
     "data": {
      "text/html": [
       "<div>\n",
       "<style scoped>\n",
       "    .dataframe tbody tr th:only-of-type {\n",
       "        vertical-align: middle;\n",
       "    }\n",
       "\n",
       "    .dataframe tbody tr th {\n",
       "        vertical-align: top;\n",
       "    }\n",
       "\n",
       "    .dataframe thead th {\n",
       "        text-align: right;\n",
       "    }\n",
       "</style>\n",
       "<table border=\"1\" class=\"dataframe\">\n",
       "  <thead>\n",
       "    <tr style=\"text-align: right;\">\n",
       "      <th></th>\n",
       "      <th>count</th>\n",
       "      <th>mean</th>\n",
       "      <th>std</th>\n",
       "      <th>min</th>\n",
       "      <th>25%</th>\n",
       "      <th>50%</th>\n",
       "      <th>75%</th>\n",
       "      <th>max</th>\n",
       "    </tr>\n",
       "  </thead>\n",
       "  <tbody>\n",
       "    <tr>\n",
       "      <th>Animal Testing</th>\n",
       "      <td>6003.0</td>\n",
       "      <td>0.01416</td>\n",
       "      <td>0.118158</td>\n",
       "      <td>0.0</td>\n",
       "      <td>0.0</td>\n",
       "      <td>0.0</td>\n",
       "      <td>0.0</td>\n",
       "      <td>1.0</td>\n",
       "    </tr>\n",
       "  </tbody>\n",
       "</table>\n",
       "</div>"
      ],
      "text/plain": [
       "                 count     mean       std  min  25%  50%  75%  max\n",
       "Animal Testing  6003.0  0.01416  0.118158  0.0  0.0  0.0  0.0  1.0"
      ]
     },
     "execution_count": 7,
     "metadata": {},
     "output_type": "execute_result"
    }
   ],
   "source": [
    "#Basic statistical details for numeric variables\n",
    "funds_df.describe(include=[np.int64]).transpose()"
   ]
  },
  {
   "cell_type": "markdown",
   "metadata": {
    "id": "rgdPuEzB8Ncn"
   },
   "source": [
    "**Observations:**\n",
    "- Total count for all numeric variables is not same as 6003 which confirms that there are missing values."
   ]
  },
  {
   "cell_type": "code",
   "execution_count": 8,
   "metadata": {
    "colab": {
     "base_uri": "https://localhost:8080/",
     "height": 210
    },
    "id": "MTeJbxvSEipw",
    "outputId": "3657c3c3-31a5-4f1b-90b1-023a0d0456fc"
   },
   "outputs": [
    {
     "data": {
      "text/html": [
       "<div>\n",
       "<style scoped>\n",
       "    .dataframe tbody tr th:only-of-type {\n",
       "        vertical-align: middle;\n",
       "    }\n",
       "\n",
       "    .dataframe tbody tr th {\n",
       "        vertical-align: top;\n",
       "    }\n",
       "\n",
       "    .dataframe thead th {\n",
       "        text-align: right;\n",
       "    }\n",
       "</style>\n",
       "<table border=\"1\" class=\"dataframe\">\n",
       "  <thead>\n",
       "    <tr style=\"text-align: right;\">\n",
       "      <th></th>\n",
       "      <th>count</th>\n",
       "      <th>unique</th>\n",
       "      <th>top</th>\n",
       "      <th>freq</th>\n",
       "    </tr>\n",
       "  </thead>\n",
       "  <tbody>\n",
       "    <tr>\n",
       "      <th>Name</th>\n",
       "      <td>6003</td>\n",
       "      <td>5677</td>\n",
       "      <td>Fidelity Advisor Freedom������������������</td>\n",
       "      <td>30</td>\n",
       "    </tr>\n",
       "    <tr>\n",
       "      <th>Ticker</th>\n",
       "      <td>6002</td>\n",
       "      <td>6002</td>\n",
       "      <td>SBCPX</td>\n",
       "      <td>1</td>\n",
       "    </tr>\n",
       "    <tr>\n",
       "      <th>Morningstar Category</th>\n",
       "      <td>6001</td>\n",
       "      <td>47</td>\n",
       "      <td>Global Equity Large Cap</td>\n",
       "      <td>730</td>\n",
       "    </tr>\n",
       "    <tr>\n",
       "      <th>Sustainable Investment by Prospectus</th>\n",
       "      <td>6003</td>\n",
       "      <td>2</td>\n",
       "      <td>No</td>\n",
       "      <td>5184</td>\n",
       "    </tr>\n",
       "    <tr>\n",
       "      <th>Sustainable Investment - ESG Fund</th>\n",
       "      <td>6003</td>\n",
       "      <td>2</td>\n",
       "      <td>No</td>\n",
       "      <td>5203</td>\n",
       "    </tr>\n",
       "    <tr>\n",
       "      <th>Sustainable Investment - Impact Fund</th>\n",
       "      <td>6003</td>\n",
       "      <td>2</td>\n",
       "      <td>No</td>\n",
       "      <td>5614</td>\n",
       "    </tr>\n",
       "    <tr>\n",
       "      <th>Sustainable Investment - Environmental Sector Fund</th>\n",
       "      <td>5997</td>\n",
       "      <td>2</td>\n",
       "      <td>No</td>\n",
       "      <td>5962</td>\n",
       "    </tr>\n",
       "    <tr>\n",
       "      <th>Fund Size (Mil)</th>\n",
       "      <td>6003</td>\n",
       "      <td>1764</td>\n",
       "      <td>15539.16</td>\n",
       "      <td>21</td>\n",
       "    </tr>\n",
       "    <tr>\n",
       "      <th>Equity StyleBox</th>\n",
       "      <td>5405</td>\n",
       "      <td>9</td>\n",
       "      <td>Large Core</td>\n",
       "      <td>2294</td>\n",
       "    </tr>\n",
       "    <tr>\n",
       "      <th>Fixed Income StyleBox</th>\n",
       "      <td>1642</td>\n",
       "      <td>9</td>\n",
       "      <td>Medium Moderate</td>\n",
       "      <td>560</td>\n",
       "    </tr>\n",
       "    <tr>\n",
       "      <th>Average Market Cap (Mil)</th>\n",
       "      <td>6003</td>\n",
       "      <td>1550</td>\n",
       "      <td>63,735.46</td>\n",
       "      <td>34</td>\n",
       "    </tr>\n",
       "    <tr>\n",
       "      <th>Average Credit Quality</th>\n",
       "      <td>6003</td>\n",
       "      <td>6</td>\n",
       "      <td>BB</td>\n",
       "      <td>1723</td>\n",
       "    </tr>\n",
       "  </tbody>\n",
       "</table>\n",
       "</div>"
      ],
      "text/plain": [
       "                                                   count unique  \\\n",
       "Name                                                6003   5677   \n",
       "Ticker                                              6002   6002   \n",
       "Morningstar Category                                6001     47   \n",
       "Sustainable Investment by Prospectus                6003      2   \n",
       "Sustainable Investment - ESG Fund                   6003      2   \n",
       "Sustainable Investment - Impact Fund                6003      2   \n",
       "Sustainable Investment - Environmental Sector Fund  5997      2   \n",
       "Fund Size (Mil)                                     6003   1764   \n",
       "Equity StyleBox                                     5405      9   \n",
       "Fixed Income StyleBox                               1642      9   \n",
       "Average Market Cap (Mil)                            6003   1550   \n",
       "Average Credit Quality                              6003      6   \n",
       "\n",
       "                                                                                            top  \\\n",
       "Name                                                Fidelity Advisor Freedom������������������    \n",
       "Ticker                                                                                    SBCPX   \n",
       "Morningstar Category                                                    Global Equity Large Cap   \n",
       "Sustainable Investment by Prospectus                                                         No   \n",
       "Sustainable Investment - ESG Fund                                                            No   \n",
       "Sustainable Investment - Impact Fund                                                         No   \n",
       "Sustainable Investment - Environmental Sector Fund                                           No   \n",
       "Fund Size (Mil)                                                                        15539.16   \n",
       "Equity StyleBox                                                                      Large Core   \n",
       "Fixed Income StyleBox                                                           Medium Moderate   \n",
       "Average Market Cap (Mil)                                                              63,735.46   \n",
       "Average Credit Quality                                                                       BB   \n",
       "\n",
       "                                                    freq  \n",
       "Name                                                  30  \n",
       "Ticker                                                 1  \n",
       "Morningstar Category                                 730  \n",
       "Sustainable Investment by Prospectus                5184  \n",
       "Sustainable Investment - ESG Fund                   5203  \n",
       "Sustainable Investment - Impact Fund                5614  \n",
       "Sustainable Investment - Environmental Sector Fund  5962  \n",
       "Fund Size (Mil)                                       21  \n",
       "Equity StyleBox                                     2294  \n",
       "Fixed Income StyleBox                                560  \n",
       "Average Market Cap (Mil)                              34  \n",
       "Average Credit Quality                              1723  "
      ]
     },
     "execution_count": 8,
     "metadata": {},
     "output_type": "execute_result"
    }
   ],
   "source": [
    "#Basic statistical details for categorical variables\n",
    "funds_df.describe(include=[np.object]).transpose()"
   ]
  },
  {
   "cell_type": "markdown",
   "metadata": {
    "id": "QbQLixkYEipw"
   },
   "source": [
    "**Observations:**\n",
    "- Total count for all categorical variables is not same as 6003 which confirms that there are missing values. "
   ]
  },
  {
   "cell_type": "code",
   "execution_count": 9,
   "metadata": {},
   "outputs": [
    {
     "name": "stdout",
     "output_type": "stream",
     "text": [
      "<class 'pandas.core.frame.DataFrame'>\n",
      "RangeIndex: 6003 entries, 0 to 6002\n",
      "Data columns (total 29 columns):\n",
      " #   Column                                              Non-Null Count  Dtype  \n",
      "---  ------                                              --------------  -----  \n",
      " 0   Name                                                6003 non-null   object \n",
      " 1   Ticker                                              6002 non-null   object \n",
      " 2   Morningstar Sustainability Rating                   5993 non-null   float64\n",
      " 3   Yield (%)                                           5910 non-null   float64\n",
      " 4   Morningstar Category                                6001 non-null   object \n",
      " 5   Portfolio Sustainability Score                      5993 non-null   float64\n",
      " 6   Portfolio Environmental Score                       5993 non-null   float64\n",
      " 7   Portfolio Social Score                              5993 non-null   float64\n",
      " 8   Portfolio Governance Score                          5991 non-null   float64\n",
      " 9   Sustainable Investment by Prospectus                6003 non-null   object \n",
      " 10  Sustainable Investment - ESG Fund                   6003 non-null   object \n",
      " 11  Sustainable Investment - Impact Fund                6003 non-null   object \n",
      " 12  Sustainable Investment - Environmental Sector Fund  5997 non-null   object \n",
      " 13  Animal Testing                                      6003 non-null   int64  \n",
      " 14  % Alcohol                                           6003 non-null   float64\n",
      " 15  % Fossil Fuels                                      6003 non-null   float64\n",
      " 16  % Small Arms                                        6003 non-null   float64\n",
      " 17  % Thermal Coal                                      6003 non-null   float64\n",
      " 18  % Tobacco                                           6003 non-null   float64\n",
      " 19  YTD Return (%)                                      6003 non-null   float64\n",
      " 20  1 Year Annualized (%)                               6003 non-null   float64\n",
      " 21  3 Years Annualized (%)                              6003 non-null   float64\n",
      " 22  5 Years Annualized (%)                              6003 non-null   float64\n",
      " 23  10 Years Annualized (%)                             5965 non-null   float64\n",
      " 24  Fund Size (Mil)                                     6003 non-null   object \n",
      " 25  Equity StyleBox                                     5405 non-null   object \n",
      " 26  Fixed Income StyleBox                               1642 non-null   object \n",
      " 27  Average Market Cap (Mil)                            6003 non-null   object \n",
      " 28  Average Credit Quality                              6003 non-null   object \n",
      "dtypes: float64(16), int64(1), object(12)\n",
      "memory usage: 1.3+ MB\n"
     ]
    }
   ],
   "source": [
    "funds_df.info()"
   ]
  },
  {
   "cell_type": "code",
   "execution_count": 10,
   "metadata": {
    "colab": {
     "base_uri": "https://localhost:8080/"
    },
    "id": "1-ig0Ha5Eipx",
    "outputId": "f66d9813-e05a-4fc6-c438-8a226dd92185"
   },
   "outputs": [
    {
     "data": {
      "text/plain": [
       "Index(['Name', 'Ticker', 'Morningstar Sustainability Rating', 'Yield (%)',\n",
       "       'Morningstar Category', 'Portfolio Sustainability Score',\n",
       "       'Portfolio Environmental Score', 'Portfolio Social Score',\n",
       "       'Portfolio Governance Score', 'Sustainable Investment by Prospectus',\n",
       "       'Sustainable Investment - ESG Fund',\n",
       "       'Sustainable Investment - Impact Fund',\n",
       "       'Sustainable Investment - Environmental Sector Fund', 'Animal Testing',\n",
       "       '% Alcohol', '% Fossil Fuels', '% Small Arms', '% Thermal Coal',\n",
       "       '% Tobacco', 'YTD Return (%)', '1 Year Annualized (%)',\n",
       "       '3 Years Annualized (%)', '5 Years Annualized (%)',\n",
       "       '10 Years Annualized (%)', 'Fund Size (Mil)', 'Equity StyleBox',\n",
       "       'Fixed Income StyleBox', 'Average Market Cap (Mil)',\n",
       "       'Average Credit Quality'],\n",
       "      dtype='object')"
      ]
     },
     "execution_count": 10,
     "metadata": {},
     "output_type": "execute_result"
    }
   ],
   "source": [
    "# Columns list can be handy and useful for further steps\n",
    "funds_df.columns"
   ]
  },
  {
   "cell_type": "markdown",
   "metadata": {
    "id": "dQQ5Ks4P8PFv"
   },
   "source": [
    "<a name = Section42></a>\n",
    "### **4.2 Data Information**\n",
    "\n",
    "- In this section we will see the **information about the types of the features**."
   ]
  },
  {
   "cell_type": "code",
   "execution_count": 11,
   "metadata": {
    "colab": {
     "base_uri": "https://localhost:8080/"
    },
    "id": "kndS14CHEipy",
    "outputId": "f229fe06-95df-4c39-cdee-715fd242768b"
   },
   "outputs": [
    {
     "name": "stdout",
     "output_type": "stream",
     "text": [
      "Categorical variables:\n",
      "['Name', 'Ticker', 'Morningstar Category', 'Sustainable Investment by Prospectus', 'Sustainable Investment - ESG Fund', 'Sustainable Investment - Impact Fund', 'Sustainable Investment - Environmental Sector Fund', 'Fund Size (Mil)', 'Equity StyleBox', 'Fixed Income StyleBox', 'Average Market Cap (Mil)', 'Average Credit Quality']\n"
     ]
    }
   ],
   "source": [
    "# Get list of categorical variables\n",
    "s = (funds_df.dtypes == 'object')\n",
    "object_cols = list(s[s].index)\n",
    "\n",
    "print(\"Categorical variables:\")\n",
    "print(object_cols)"
   ]
  },
  {
   "cell_type": "code",
   "execution_count": 12,
   "metadata": {
    "colab": {
     "base_uri": "https://localhost:8080/"
    },
    "id": "_hRC2qgyEipz",
    "outputId": "66368809-14e8-44e1-ca5e-341099a6db0a"
   },
   "outputs": [
    {
     "name": "stdout",
     "output_type": "stream",
     "text": [
      "Numeric variables Float:\n",
      "['Morningstar Sustainability Rating', 'Yield (%)', 'Portfolio Sustainability Score', 'Portfolio Environmental Score', 'Portfolio Social Score', 'Portfolio Governance Score', '% Alcohol', '% Fossil Fuels', '% Small Arms', '% Thermal Coal', '% Tobacco', 'YTD Return (%)', '1 Year Annualized (%)', '3 Years Annualized (%)', '5 Years Annualized (%)', '10 Years Annualized (%)']\n"
     ]
    }
   ],
   "source": [
    "# Get list of numerical variables\n",
    "s = (funds_df.dtypes == 'float64')\n",
    "numeric_cols = list(s[s].index)\n",
    "\n",
    "print(\"Numeric variables Float:\")\n",
    "print(numeric_cols)"
   ]
  },
  {
   "cell_type": "code",
   "execution_count": 13,
   "metadata": {},
   "outputs": [
    {
     "name": "stdout",
     "output_type": "stream",
     "text": [
      "Numeric variables Int:\n",
      "['Animal Testing']\n"
     ]
    }
   ],
   "source": [
    "# Get list of numerical variables\n",
    "s = (funds_df.dtypes == 'int64')\n",
    "numeric_int_cols = list(s[s].index)\n",
    "\n",
    "print(\"Numeric variables Int:\")\n",
    "print(numeric_int_cols)"
   ]
  },
  {
   "cell_type": "markdown",
   "metadata": {
    "id": "oQSEAjYy8XfW"
   },
   "source": [
    "<a name = Section5></a>\n",
    "\n",
    "---\n",
    "# **5. Data Pre-Processing**\n",
    "---"
   ]
  },
  {
   "cell_type": "markdown",
   "metadata": {
    "id": "4L4wU-sm8ZLg"
   },
   "source": [
    "<a name = Section51></a>\n",
    "### **5.1 Data Pre-Profiling**\n",
    "\n",
    "- For **quick analysis** pandas profiling is very handy.\n",
    "\n",
    "- Generates profile reports from a pandas DataFrame.\n",
    "\n",
    "- For each column **statistics** are presented in an interactive HTML report."
   ]
  },
  {
   "cell_type": "code",
   "execution_count": 14,
   "metadata": {
    "id": "luX_DzAx8Owo"
   },
   "outputs": [
    {
     "data": {
      "application/vnd.jupyter.widget-view+json": {
       "model_id": "d4f9486583274108905bea0695875068",
       "version_major": 2,
       "version_minor": 0
      },
      "text/plain": [
       "Summarize dataset:   0%|          | 0/5 [00:00<?, ?it/s]"
      ]
     },
     "metadata": {},
     "output_type": "display_data"
    },
    {
     "data": {
      "application/vnd.jupyter.widget-view+json": {
       "model_id": "d2c557a9476e4d0e9e34444f0e9ae3d8",
       "version_major": 2,
       "version_minor": 0
      },
      "text/plain": [
       "Generate report structure:   0%|          | 0/1 [00:00<?, ?it/s]"
      ]
     },
     "metadata": {},
     "output_type": "display_data"
    },
    {
     "data": {
      "application/vnd.jupyter.widget-view+json": {
       "model_id": "7a3050d9160b47ce8f34d8e35e5abc41",
       "version_major": 2,
       "version_minor": 0
      },
      "text/plain": [
       "Render HTML:   0%|          | 0/1 [00:00<?, ?it/s]"
      ]
     },
     "metadata": {},
     "output_type": "display_data"
    },
    {
     "data": {
      "application/vnd.jupyter.widget-view+json": {
       "model_id": "7aed8bcf538942c1866cb4eb019584cd",
       "version_major": 2,
       "version_minor": 0
      },
      "text/plain": [
       "Export report to file:   0%|          | 0/1 [00:00<?, ?it/s]"
      ]
     },
     "metadata": {},
     "output_type": "display_data"
    },
    {
     "name": "stdout",
     "output_type": "stream",
     "text": [
      "Accomplished!\n"
     ]
    }
   ],
   "source": [
    "profile = ProfileReport(df=funds_df)\n",
    "profile.to_file(output_file='Responsible Investing Pre Profiling Report.html')\n",
    "print('Accomplished!')"
   ]
  },
  {
   "cell_type": "markdown",
   "metadata": {
    "id": "tNG4bnZe8b6o"
   },
   "source": [
    "**Observations:**\n",
    "\n",
    "- \n",
    "\n",
    "- For detailed information, please check **Responsible Investing Pre Profiling Report.html** file."
   ]
  },
  {
   "cell_type": "markdown",
   "metadata": {
    "id": "fM-c50LH88C0"
   },
   "source": [
    "<a name = Section52></a>\n",
    "### **5.2 Data Pre-Processing**\n",
    "\n",
    "- There are missing values and we need to pre process few features before EDA and Model Evaluation"
   ]
  },
  {
   "cell_type": "code",
   "execution_count": 15,
   "metadata": {},
   "outputs": [],
   "source": [
    "funds_feature = funds_df.drop(columns=['Equity StyleBox','Fixed Income StyleBox'])"
   ]
  },
  {
   "cell_type": "code",
   "execution_count": 16,
   "metadata": {},
   "outputs": [],
   "source": [
    "funds_feature.dropna(inplace=True)"
   ]
  },
  {
   "cell_type": "code",
   "execution_count": 17,
   "metadata": {},
   "outputs": [
    {
     "name": "stdout",
     "output_type": "stream",
     "text": [
      "<class 'pandas.core.frame.DataFrame'>\n",
      "Int64Index: 5859 entries, 0 to 6002\n",
      "Data columns (total 27 columns):\n",
      " #   Column                                              Non-Null Count  Dtype  \n",
      "---  ------                                              --------------  -----  \n",
      " 0   Name                                                5859 non-null   object \n",
      " 1   Ticker                                              5859 non-null   object \n",
      " 2   Morningstar Sustainability Rating                   5859 non-null   float64\n",
      " 3   Yield (%)                                           5859 non-null   float64\n",
      " 4   Morningstar Category                                5859 non-null   object \n",
      " 5   Portfolio Sustainability Score                      5859 non-null   float64\n",
      " 6   Portfolio Environmental Score                       5859 non-null   float64\n",
      " 7   Portfolio Social Score                              5859 non-null   float64\n",
      " 8   Portfolio Governance Score                          5859 non-null   float64\n",
      " 9   Sustainable Investment by Prospectus                5859 non-null   object \n",
      " 10  Sustainable Investment - ESG Fund                   5859 non-null   object \n",
      " 11  Sustainable Investment - Impact Fund                5859 non-null   object \n",
      " 12  Sustainable Investment - Environmental Sector Fund  5859 non-null   object \n",
      " 13  Animal Testing                                      5859 non-null   int64  \n",
      " 14  % Alcohol                                           5859 non-null   float64\n",
      " 15  % Fossil Fuels                                      5859 non-null   float64\n",
      " 16  % Small Arms                                        5859 non-null   float64\n",
      " 17  % Thermal Coal                                      5859 non-null   float64\n",
      " 18  % Tobacco                                           5859 non-null   float64\n",
      " 19  YTD Return (%)                                      5859 non-null   float64\n",
      " 20  1 Year Annualized (%)                               5859 non-null   float64\n",
      " 21  3 Years Annualized (%)                              5859 non-null   float64\n",
      " 22  5 Years Annualized (%)                              5859 non-null   float64\n",
      " 23  10 Years Annualized (%)                             5859 non-null   float64\n",
      " 24  Fund Size (Mil)                                     5859 non-null   object \n",
      " 25  Average Market Cap (Mil)                            5859 non-null   object \n",
      " 26  Average Credit Quality                              5859 non-null   object \n",
      "dtypes: float64(16), int64(1), object(10)\n",
      "memory usage: 1.3+ MB\n"
     ]
    }
   ],
   "source": [
    "funds_feature.info()"
   ]
  },
  {
   "cell_type": "markdown",
   "metadata": {
    "id": "QLwWFES98-I8"
   },
   "source": [
    "<a name = Section53></a>\n",
    "### **5.3 Data Post-Profiling**\n",
    "\n",
    "- We can run the report to get latest information"
   ]
  },
  {
   "cell_type": "code",
   "execution_count": 18,
   "metadata": {
    "id": "ciU9rER48-BI"
   },
   "outputs": [],
   "source": [
    "# post_profile=ProfileReport(df=funds_df)\n",
    "# post_profile.to_file(output_file='Responsible Investing Post Profiling Report.html')\n",
    "# print('Accomplished!')"
   ]
  },
  {
   "cell_type": "markdown",
   "metadata": {
    "id": "ta0YDE_B9CrW"
   },
   "source": [
    "**Observations:**\n",
    "\n",
    "- Not Applicable"
   ]
  },
  {
   "cell_type": "markdown",
   "metadata": {
    "id": "yRiwgAJL9IrJ"
   },
   "source": [
    "<a name = Section6></a>\n",
    "\n",
    "---\n",
    "# **6. Exploratory Data Analysis**\n",
    "---\n",
    "\n",
    "**NOTE**:  \n",
    "\n",
    "- Exploratory Data Analysis will explore all the features and their relationship with other features\n",
    "- Both non-graphical and graphical method will be used as applicable to respective features\n",
    "- Both univariate and bivariate method be used as applicable to respective features"
   ]
  },
  {
   "cell_type": "markdown",
   "metadata": {
    "id": "ptT-j5erEip4"
   },
   "source": [
    "**Q: What is the breakdown of Morningstar Sustainability Rating?**"
   ]
  },
  {
   "cell_type": "code",
   "execution_count": 19,
   "metadata": {
    "colab": {
     "base_uri": "https://localhost:8080/"
    },
    "id": "4Blph_-XEip4",
    "outputId": "b072d9c7-3d5b-416a-a9ed-8cab513d5861"
   },
   "outputs": [
    {
     "data": {
      "text/plain": [
       "3.0    3460\n",
       "4.0    1746\n",
       "5.0     696\n",
       "2.0      78\n",
       "1.0      13\n",
       "Name: Morningstar Sustainability Rating, dtype: int64"
      ]
     },
     "execution_count": 19,
     "metadata": {},
     "output_type": "execute_result"
    }
   ],
   "source": [
    "funds_df['Morningstar Sustainability Rating'].value_counts()"
   ]
  },
  {
   "cell_type": "code",
   "execution_count": 20,
   "metadata": {
    "colab": {
     "base_uri": "https://localhost:8080/",
     "height": 731
    },
    "id": "4zNO4dBgEip4",
    "outputId": "0adc1282-7182-4402-ac65-871724bdca9e"
   },
   "outputs": [
    {
     "data": {
      "image/png": "[encoded data removed]",
      "text/plain": [
       "<Figure size 720x504 with 1 Axes>"
      ]
     },
     "metadata": {
      "needs_background": "light"
     },
     "output_type": "display_data"
    }
   ],
   "source": [
    "plt.figure(figsize=(10,7))\n",
    "sns.countplot(x='Morningstar Sustainability Rating',data=funds_df,order=funds_df['Morningstar Sustainability Rating'].value_counts().index)\n",
    "plt.show()"
   ]
  },
  {
   "cell_type": "markdown",
   "metadata": {},
   "source": [
    "**Q: What is the breakdown of Morningstar Category?**"
   ]
  },
  {
   "cell_type": "code",
   "execution_count": 21,
   "metadata": {},
   "outputs": [
    {
     "data": {
      "text/plain": [
       "Global Equity Large Cap                    730\n",
       "Target Date                                546\n",
       "US Fixed Income                            492\n",
       "US Equity Small Cap                        449\n",
       "US Equity Mid Cap                          444\n",
       "US Equity Large Cap Growth                 436\n",
       "US Equity Large Cap Blend                  399\n",
       "Moderate Allocation                        341\n",
       "US Equity Large Cap Value                  317\n",
       "Global Emerging Markets Equity             239\n",
       "Aggressive Allocation                      236\n",
       "Cautious Allocation                        180\n",
       "Real Estate Sector Equity                  145\n",
       "Global Equity Mid/Small Cap                130\n",
       "Emerging Markets Fixed Income               82\n",
       "Technology Sector Equity                    78\n",
       "Long/Short Equity                           77\n",
       "Flexible Allocation                         72\n",
       "Global Fixed Income                         58\n",
       "Healthcare Sector Equity                    49\n",
       "Energy Sector Equity                        43\n",
       "Infrastructure Sector Equity                42\n",
       "Multialternative                            39\n",
       "Greater China Equity                        38\n",
       "Equity Miscellaneous                        37\n",
       "Global Macro                                33\n",
       "Market Neutral                              29\n",
       "Options Trading                             29\n",
       "US Municipal Fixed Income                   25\n",
       "Fixed Income Miscellaneous                  24\n",
       "Precious Metals Sector Equity               23\n",
       "Asia ex-Japan Equity                        17\n",
       "Europe Equity Large Cap                     16\n",
       "Alternative Miscellaneous                   15\n",
       "Natural Resources Sector Equity             13\n",
       "Utilities Sector Equity                     12\n",
       "Japan Equity                                10\n",
       "Consumer Goods & Services Sector Equity     10\n",
       "Latin America Equity                         8\n",
       "Commodities Broad Basket                     6\n",
       "India Equity                                 6\n",
       "Financials Sector Equity                     6\n",
       "Europe Equity Mid/Small Cap                  6\n",
       "Europe Emerging Markets Equity               5\n",
       "Communications Sector Equity                 4\n",
       "Asia Equity                                  3\n",
       "Industrials Sector Equity                    2\n",
       "Name: Morningstar Category, dtype: int64"
      ]
     },
     "execution_count": 21,
     "metadata": {},
     "output_type": "execute_result"
    }
   ],
   "source": [
    "funds_df['Morningstar Category'].value_counts()"
   ]
  },
  {
   "cell_type": "code",
   "execution_count": 22,
   "metadata": {},
   "outputs": [
    {
     "data": {
      "image/png": "[encoded data removed]",
      "text/plain": [
       "<Figure size 1080x720 with 1 Axes>"
      ]
     },
     "metadata": {
      "needs_background": "light"
     },
     "output_type": "display_data"
    }
   ],
   "source": [
    "plt.figure(figsize=(15,10))\n",
    "sns.countplot(y='Morningstar Category',data=funds_df,order=funds_df['Morningstar Category'].value_counts().index)\n",
    "plt.show()"
   ]
  },
  {
   "cell_type": "markdown",
   "metadata": {},
   "source": [
    "**Q: What is the breakdown of Sustainable Investment by Prospectus?**"
   ]
  },
  {
   "cell_type": "code",
   "execution_count": 23,
   "metadata": {},
   "outputs": [
    {
     "data": {
      "text/plain": [
       "No     5184\n",
       "Yes     819\n",
       "Name: Sustainable Investment by Prospectus, dtype: int64"
      ]
     },
     "execution_count": 23,
     "metadata": {},
     "output_type": "execute_result"
    }
   ],
   "source": [
    "funds_df['Sustainable Investment by Prospectus'].value_counts()"
   ]
  },
  {
   "cell_type": "code",
   "execution_count": 24,
   "metadata": {},
   "outputs": [
    {
     "data": {
      "image/png": "[encoded data removed]",
      "text/plain": [
       "<Figure size 720x504 with 1 Axes>"
      ]
     },
     "metadata": {
      "needs_background": "light"
     },
     "output_type": "display_data"
    }
   ],
   "source": [
    "plt.figure(figsize=(10,7))\n",
    "sns.countplot(x='Sustainable Investment by Prospectus',data=funds_df,order=funds_df['Sustainable Investment by Prospectus'].value_counts().index)\n",
    "plt.show()"
   ]
  },
  {
   "cell_type": "markdown",
   "metadata": {},
   "source": [
    "**Q: What is the breakdown of Sustainable Investment - ESG Fund?**"
   ]
  },
  {
   "cell_type": "code",
   "execution_count": 25,
   "metadata": {},
   "outputs": [
    {
     "data": {
      "text/plain": [
       "No     5203\n",
       "Yes     800\n",
       "Name: Sustainable Investment - ESG Fund, dtype: int64"
      ]
     },
     "execution_count": 25,
     "metadata": {},
     "output_type": "execute_result"
    }
   ],
   "source": [
    "funds_df['Sustainable Investment - ESG Fund'].value_counts()"
   ]
  },
  {
   "cell_type": "code",
   "execution_count": 26,
   "metadata": {},
   "outputs": [
    {
     "data": {
      "image/png": "[encoded data removed]",
      "text/plain": [
       "<Figure size 720x504 with 1 Axes>"
      ]
     },
     "metadata": {
      "needs_background": "light"
     },
     "output_type": "display_data"
    }
   ],
   "source": [
    "plt.figure(figsize=(10,7))\n",
    "sns.countplot(x='Sustainable Investment - ESG Fund',data=funds_df,order=funds_df['Sustainable Investment - ESG Fund'].value_counts().index)\n",
    "plt.show()"
   ]
  },
  {
   "cell_type": "markdown",
   "metadata": {},
   "source": [
    "**Q: What is the breakdown of Sustainable Investment - Impact Fund?**"
   ]
  },
  {
   "cell_type": "code",
   "execution_count": 27,
   "metadata": {},
   "outputs": [
    {
     "data": {
      "text/plain": [
       "No     5614\n",
       "Yes     389\n",
       "Name: Sustainable Investment - Impact Fund, dtype: int64"
      ]
     },
     "execution_count": 27,
     "metadata": {},
     "output_type": "execute_result"
    }
   ],
   "source": [
    "funds_df['Sustainable Investment - Impact Fund'].value_counts()"
   ]
  },
  {
   "cell_type": "code",
   "execution_count": 28,
   "metadata": {},
   "outputs": [
    {
     "data": {
      "image/png": "[encoded data removed]",
      "text/plain": [
       "<Figure size 720x504 with 1 Axes>"
      ]
     },
     "metadata": {
      "needs_background": "light"
     },
     "output_type": "display_data"
    }
   ],
   "source": [
    "plt.figure(figsize=(10,7))\n",
    "sns.countplot(x='Sustainable Investment - Impact Fund',data=funds_df,order=funds_df['Sustainable Investment - Impact Fund'].value_counts().index)\n",
    "plt.show()"
   ]
  },
  {
   "cell_type": "markdown",
   "metadata": {},
   "source": [
    "**Q: What is the breakdown of Sustainable Investment - Environmental Sector Fund?**"
   ]
  },
  {
   "cell_type": "code",
   "execution_count": 29,
   "metadata": {},
   "outputs": [
    {
     "data": {
      "text/plain": [
       "No     5962\n",
       "Yes      35\n",
       "Name: Sustainable Investment - Environmental Sector Fund, dtype: int64"
      ]
     },
     "execution_count": 29,
     "metadata": {},
     "output_type": "execute_result"
    }
   ],
   "source": [
    "funds_df['Sustainable Investment - Environmental Sector Fund'].value_counts()"
   ]
  },
  {
   "cell_type": "code",
   "execution_count": 30,
   "metadata": {},
   "outputs": [
    {
     "data": {
      "image/png": "[encoded data removed]",
      "text/plain": [
       "<Figure size 720x504 with 1 Axes>"
      ]
     },
     "metadata": {
      "needs_background": "light"
     },
     "output_type": "display_data"
    }
   ],
   "source": [
    "plt.figure(figsize=(10,7))\n",
    "sns.countplot(x='Sustainable Investment - Environmental Sector Fund',data=funds_df,order=funds_df['Sustainable Investment - Environmental Sector Fund'].value_counts().index)\n",
    "plt.show()"
   ]
  },
  {
   "cell_type": "markdown",
   "metadata": {},
   "source": [
    "**Q: What is the breakdown of Average Credit Quality?**"
   ]
  },
  {
   "cell_type": "code",
   "execution_count": 31,
   "metadata": {},
   "outputs": [
    {
     "data": {
      "text/plain": [
       "BB     1723\n",
       "BBB    1655\n",
       "A      1434\n",
       "AAA     504\n",
       "AA      470\n",
       "B       217\n",
       "Name: Average Credit Quality, dtype: int64"
      ]
     },
     "execution_count": 31,
     "metadata": {},
     "output_type": "execute_result"
    }
   ],
   "source": [
    "funds_df['Average Credit Quality'].value_counts()"
   ]
  },
  {
   "cell_type": "code",
   "execution_count": 32,
   "metadata": {},
   "outputs": [
    {
     "data": {
      "image/png": "[encoded data removed]",
      "text/plain": [
       "<Figure size 720x504 with 1 Axes>"
      ]
     },
     "metadata": {
      "needs_background": "light"
     },
     "output_type": "display_data"
    }
   ],
   "source": [
    "plt.figure(figsize=(10,7))\n",
    "sns.countplot(x='Average Credit Quality',data=funds_df,order=funds_df['Average Credit Quality'].value_counts().index)\n",
    "plt.show()"
   ]
  },
  {
   "cell_type": "markdown",
   "metadata": {},
   "source": [
    "**Q: What are the top Yield (%), YTD Return (%), 1 Year Annualized (%), 5 Years Annualized (%), 10 Years Annualized (%) groupby Morningstar Sustainability Rating?**"
   ]
  },
  {
   "cell_type": "code",
   "execution_count": 33,
   "metadata": {},
   "outputs": [
    {
     "data": {
      "text/html": [
       "<div>\n",
       "<style scoped>\n",
       "    .dataframe tbody tr th:only-of-type {\n",
       "        vertical-align: middle;\n",
       "    }\n",
       "\n",
       "    .dataframe tbody tr th {\n",
       "        vertical-align: top;\n",
       "    }\n",
       "\n",
       "    .dataframe thead th {\n",
       "        text-align: right;\n",
       "    }\n",
       "</style>\n",
       "<table border=\"1\" class=\"dataframe\">\n",
       "  <thead>\n",
       "    <tr style=\"text-align: right;\">\n",
       "      <th></th>\n",
       "      <th>Morningstar Sustainability Rating</th>\n",
       "      <th>Yield (%)</th>\n",
       "      <th>YTD Return (%)</th>\n",
       "      <th>1 Year Annualized (%)</th>\n",
       "      <th>5 Years Annualized (%)</th>\n",
       "      <th>10 Years Annualized (%)</th>\n",
       "    </tr>\n",
       "  </thead>\n",
       "  <tbody>\n",
       "    <tr>\n",
       "      <th>0</th>\n",
       "      <td>1.0</td>\n",
       "      <td>0.00</td>\n",
       "      <td>22.310</td>\n",
       "      <td>52.760</td>\n",
       "      <td>15.900</td>\n",
       "      <td>10.220</td>\n",
       "    </tr>\n",
       "    <tr>\n",
       "      <th>1</th>\n",
       "      <td>2.0</td>\n",
       "      <td>1.11</td>\n",
       "      <td>0.615</td>\n",
       "      <td>6.375</td>\n",
       "      <td>13.805</td>\n",
       "      <td>9.740</td>\n",
       "    </tr>\n",
       "    <tr>\n",
       "      <th>2</th>\n",
       "      <td>3.0</td>\n",
       "      <td>0.89</td>\n",
       "      <td>12.950</td>\n",
       "      <td>27.220</td>\n",
       "      <td>12.200</td>\n",
       "      <td>11.025</td>\n",
       "    </tr>\n",
       "    <tr>\n",
       "      <th>3</th>\n",
       "      <td>4.0</td>\n",
       "      <td>0.41</td>\n",
       "      <td>13.765</td>\n",
       "      <td>25.210</td>\n",
       "      <td>12.910</td>\n",
       "      <td>11.720</td>\n",
       "    </tr>\n",
       "    <tr>\n",
       "      <th>4</th>\n",
       "      <td>5.0</td>\n",
       "      <td>0.26</td>\n",
       "      <td>15.055</td>\n",
       "      <td>29.125</td>\n",
       "      <td>15.580</td>\n",
       "      <td>12.660</td>\n",
       "    </tr>\n",
       "  </tbody>\n",
       "</table>\n",
       "</div>"
      ],
      "text/plain": [
       "   Morningstar Sustainability Rating  Yield (%)  YTD Return (%)  \\\n",
       "0                                1.0       0.00          22.310   \n",
       "1                                2.0       1.11           0.615   \n",
       "2                                3.0       0.89          12.950   \n",
       "3                                4.0       0.41          13.765   \n",
       "4                                5.0       0.26          15.055   \n",
       "\n",
       "   1 Year Annualized (%)  5 Years Annualized (%)  10 Years Annualized (%)  \n",
       "0                 52.760                  15.900                   10.220  \n",
       "1                  6.375                  13.805                    9.740  \n",
       "2                 27.220                  12.200                   11.025  \n",
       "3                 25.210                  12.910                   11.720  \n",
       "4                 29.125                  15.580                   12.660  "
      ]
     },
     "execution_count": 33,
     "metadata": {},
     "output_type": "execute_result"
    }
   ],
   "source": [
    "funds_df.groupby(by=['Morningstar Sustainability Rating'], as_index=False)['Yield (%)','YTD Return (%)','1 Year Annualized (%)','5 Years Annualized (%)','10 Years Annualized (%)'].median()"
   ]
  },
  {
   "cell_type": "markdown",
   "metadata": {},
   "source": [
    "**Q: What are the top Portfolio Sustainability Score, Portfolio Environmental Score, Portfolio Social Score, Portfolio Governance Score groupby Morningstar Sustainability Rating?**"
   ]
  },
  {
   "cell_type": "code",
   "execution_count": 34,
   "metadata": {},
   "outputs": [
    {
     "data": {
      "text/html": [
       "<div>\n",
       "<style scoped>\n",
       "    .dataframe tbody tr th:only-of-type {\n",
       "        vertical-align: middle;\n",
       "    }\n",
       "\n",
       "    .dataframe tbody tr th {\n",
       "        vertical-align: top;\n",
       "    }\n",
       "\n",
       "    .dataframe thead th {\n",
       "        text-align: right;\n",
       "    }\n",
       "</style>\n",
       "<table border=\"1\" class=\"dataframe\">\n",
       "  <thead>\n",
       "    <tr style=\"text-align: right;\">\n",
       "      <th></th>\n",
       "      <th>Morningstar Sustainability Rating</th>\n",
       "      <th>Portfolio Sustainability Score</th>\n",
       "      <th>Portfolio Environmental Score</th>\n",
       "      <th>Portfolio Social Score</th>\n",
       "      <th>Portfolio Governance Score</th>\n",
       "    </tr>\n",
       "  </thead>\n",
       "  <tbody>\n",
       "    <tr>\n",
       "      <th>0</th>\n",
       "      <td>1.0</td>\n",
       "      <td>25.46</td>\n",
       "      <td>2.980</td>\n",
       "      <td>4.20</td>\n",
       "      <td>4.02</td>\n",
       "    </tr>\n",
       "    <tr>\n",
       "      <th>1</th>\n",
       "      <td>2.0</td>\n",
       "      <td>24.10</td>\n",
       "      <td>5.165</td>\n",
       "      <td>8.65</td>\n",
       "      <td>6.74</td>\n",
       "    </tr>\n",
       "    <tr>\n",
       "      <th>2</th>\n",
       "      <td>3.0</td>\n",
       "      <td>22.66</td>\n",
       "      <td>3.870</td>\n",
       "      <td>9.28</td>\n",
       "      <td>7.10</td>\n",
       "    </tr>\n",
       "    <tr>\n",
       "      <th>3</th>\n",
       "      <td>4.0</td>\n",
       "      <td>21.72</td>\n",
       "      <td>3.610</td>\n",
       "      <td>8.99</td>\n",
       "      <td>7.02</td>\n",
       "    </tr>\n",
       "    <tr>\n",
       "      <th>4</th>\n",
       "      <td>5.0</td>\n",
       "      <td>20.05</td>\n",
       "      <td>3.170</td>\n",
       "      <td>8.70</td>\n",
       "      <td>6.72</td>\n",
       "    </tr>\n",
       "  </tbody>\n",
       "</table>\n",
       "</div>"
      ],
      "text/plain": [
       "   Morningstar Sustainability Rating  Portfolio Sustainability Score  \\\n",
       "0                                1.0                           25.46   \n",
       "1                                2.0                           24.10   \n",
       "2                                3.0                           22.66   \n",
       "3                                4.0                           21.72   \n",
       "4                                5.0                           20.05   \n",
       "\n",
       "   Portfolio Environmental Score  Portfolio Social Score  \\\n",
       "0                          2.980                    4.20   \n",
       "1                          5.165                    8.65   \n",
       "2                          3.870                    9.28   \n",
       "3                          3.610                    8.99   \n",
       "4                          3.170                    8.70   \n",
       "\n",
       "   Portfolio Governance Score  \n",
       "0                        4.02  \n",
       "1                        6.74  \n",
       "2                        7.10  \n",
       "3                        7.02  \n",
       "4                        6.72  "
      ]
     },
     "execution_count": 34,
     "metadata": {},
     "output_type": "execute_result"
    }
   ],
   "source": [
    "funds_df.groupby(by=['Morningstar Sustainability Rating'], as_index=False)['Portfolio Sustainability Score','Portfolio Environmental Score','Portfolio Social Score','Portfolio Governance Score'].median()"
   ]
  },
  {
   "cell_type": "markdown",
   "metadata": {},
   "source": [
    "**Q: What are the top Animal Testing, % Alcohol, % Fossil Fuels, % Small Arms, % Thermal Coal, % Tobacco groupby Morningstar Sustainability Rating?**"
   ]
  },
  {
   "cell_type": "code",
   "execution_count": 35,
   "metadata": {},
   "outputs": [
    {
     "data": {
      "text/html": [
       "<div>\n",
       "<style scoped>\n",
       "    .dataframe tbody tr th:only-of-type {\n",
       "        vertical-align: middle;\n",
       "    }\n",
       "\n",
       "    .dataframe tbody tr th {\n",
       "        vertical-align: top;\n",
       "    }\n",
       "\n",
       "    .dataframe thead th {\n",
       "        text-align: right;\n",
       "    }\n",
       "</style>\n",
       "<table border=\"1\" class=\"dataframe\">\n",
       "  <thead>\n",
       "    <tr style=\"text-align: right;\">\n",
       "      <th></th>\n",
       "      <th>Morningstar Sustainability Rating</th>\n",
       "      <th>Animal Testing</th>\n",
       "      <th>% Alcohol</th>\n",
       "      <th>% Fossil Fuels</th>\n",
       "      <th>% Small Arms</th>\n",
       "      <th>% Thermal Coal</th>\n",
       "      <th>% Tobacco</th>\n",
       "    </tr>\n",
       "  </thead>\n",
       "  <tbody>\n",
       "    <tr>\n",
       "      <th>0</th>\n",
       "      <td>1.0</td>\n",
       "      <td>0</td>\n",
       "      <td>0.00</td>\n",
       "      <td>1.38</td>\n",
       "      <td>0.00</td>\n",
       "      <td>0.00</td>\n",
       "      <td>0.000</td>\n",
       "    </tr>\n",
       "    <tr>\n",
       "      <th>1</th>\n",
       "      <td>2.0</td>\n",
       "      <td>0</td>\n",
       "      <td>0.00</td>\n",
       "      <td>5.20</td>\n",
       "      <td>0.00</td>\n",
       "      <td>0.00</td>\n",
       "      <td>0.000</td>\n",
       "    </tr>\n",
       "    <tr>\n",
       "      <th>2</th>\n",
       "      <td>3.0</td>\n",
       "      <td>0</td>\n",
       "      <td>0.25</td>\n",
       "      <td>5.72</td>\n",
       "      <td>0.47</td>\n",
       "      <td>0.89</td>\n",
       "      <td>0.165</td>\n",
       "    </tr>\n",
       "    <tr>\n",
       "      <th>3</th>\n",
       "      <td>4.0</td>\n",
       "      <td>0</td>\n",
       "      <td>0.00</td>\n",
       "      <td>3.52</td>\n",
       "      <td>0.00</td>\n",
       "      <td>0.00</td>\n",
       "      <td>0.000</td>\n",
       "    </tr>\n",
       "    <tr>\n",
       "      <th>4</th>\n",
       "      <td>5.0</td>\n",
       "      <td>0</td>\n",
       "      <td>0.00</td>\n",
       "      <td>1.78</td>\n",
       "      <td>0.00</td>\n",
       "      <td>0.00</td>\n",
       "      <td>0.000</td>\n",
       "    </tr>\n",
       "  </tbody>\n",
       "</table>\n",
       "</div>"
      ],
      "text/plain": [
       "   Morningstar Sustainability Rating  Animal Testing  % Alcohol  \\\n",
       "0                                1.0               0       0.00   \n",
       "1                                2.0               0       0.00   \n",
       "2                                3.0               0       0.25   \n",
       "3                                4.0               0       0.00   \n",
       "4                                5.0               0       0.00   \n",
       "\n",
       "   % Fossil Fuels  % Small Arms  % Thermal Coal  % Tobacco  \n",
       "0            1.38          0.00            0.00      0.000  \n",
       "1            5.20          0.00            0.00      0.000  \n",
       "2            5.72          0.47            0.89      0.165  \n",
       "3            3.52          0.00            0.00      0.000  \n",
       "4            1.78          0.00            0.00      0.000  "
      ]
     },
     "execution_count": 35,
     "metadata": {},
     "output_type": "execute_result"
    }
   ],
   "source": [
    "funds_df.groupby(by=['Morningstar Sustainability Rating'], as_index=False)['Animal Testing','% Alcohol','% Fossil Fuels','% Small Arms','% Thermal Coal','% Tobacco'].median()"
   ]
  },
  {
   "cell_type": "markdown",
   "metadata": {},
   "source": [
    "**Q: What are the top Yield (%), YTD Return (%), 1 Year Annualized (%), 5 Years Annualized (%), 10 Years Annualized (%) groupby Average Credit Quality?**"
   ]
  },
  {
   "cell_type": "code",
   "execution_count": 36,
   "metadata": {},
   "outputs": [
    {
     "data": {
      "text/html": [
       "<div>\n",
       "<style scoped>\n",
       "    .dataframe tbody tr th:only-of-type {\n",
       "        vertical-align: middle;\n",
       "    }\n",
       "\n",
       "    .dataframe tbody tr th {\n",
       "        vertical-align: top;\n",
       "    }\n",
       "\n",
       "    .dataframe thead th {\n",
       "        text-align: right;\n",
       "    }\n",
       "</style>\n",
       "<table border=\"1\" class=\"dataframe\">\n",
       "  <thead>\n",
       "    <tr style=\"text-align: right;\">\n",
       "      <th></th>\n",
       "      <th>Average Credit Quality</th>\n",
       "      <th>Yield (%)</th>\n",
       "      <th>YTD Return (%)</th>\n",
       "      <th>1 Year Annualized (%)</th>\n",
       "      <th>5 Years Annualized (%)</th>\n",
       "      <th>10 Years Annualized (%)</th>\n",
       "    </tr>\n",
       "  </thead>\n",
       "  <tbody>\n",
       "    <tr>\n",
       "      <th>0</th>\n",
       "      <td>A</td>\n",
       "      <td>0.580</td>\n",
       "      <td>11.90</td>\n",
       "      <td>21.860</td>\n",
       "      <td>13.135</td>\n",
       "      <td>11.725</td>\n",
       "    </tr>\n",
       "    <tr>\n",
       "      <th>1</th>\n",
       "      <td>AA</td>\n",
       "      <td>0.735</td>\n",
       "      <td>13.04</td>\n",
       "      <td>22.075</td>\n",
       "      <td>12.735</td>\n",
       "      <td>10.750</td>\n",
       "    </tr>\n",
       "    <tr>\n",
       "      <th>2</th>\n",
       "      <td>AAA</td>\n",
       "      <td>0.555</td>\n",
       "      <td>15.65</td>\n",
       "      <td>31.115</td>\n",
       "      <td>12.405</td>\n",
       "      <td>11.555</td>\n",
       "    </tr>\n",
       "    <tr>\n",
       "      <th>3</th>\n",
       "      <td>B</td>\n",
       "      <td>0.615</td>\n",
       "      <td>11.72</td>\n",
       "      <td>23.400</td>\n",
       "      <td>12.370</td>\n",
       "      <td>9.940</td>\n",
       "    </tr>\n",
       "    <tr>\n",
       "      <th>4</th>\n",
       "      <td>BB</td>\n",
       "      <td>0.760</td>\n",
       "      <td>14.31</td>\n",
       "      <td>29.920</td>\n",
       "      <td>12.670</td>\n",
       "      <td>11.240</td>\n",
       "    </tr>\n",
       "    <tr>\n",
       "      <th>5</th>\n",
       "      <td>BBB</td>\n",
       "      <td>0.660</td>\n",
       "      <td>13.67</td>\n",
       "      <td>27.380</td>\n",
       "      <td>12.640</td>\n",
       "      <td>11.640</td>\n",
       "    </tr>\n",
       "  </tbody>\n",
       "</table>\n",
       "</div>"
      ],
      "text/plain": [
       "  Average Credit Quality  Yield (%)  YTD Return (%)  1 Year Annualized (%)  \\\n",
       "0                      A      0.580           11.90                 21.860   \n",
       "1                     AA      0.735           13.04                 22.075   \n",
       "2                    AAA      0.555           15.65                 31.115   \n",
       "3                      B      0.615           11.72                 23.400   \n",
       "4                     BB      0.760           14.31                 29.920   \n",
       "5                    BBB      0.660           13.67                 27.380   \n",
       "\n",
       "   5 Years Annualized (%)  10 Years Annualized (%)  \n",
       "0                  13.135                   11.725  \n",
       "1                  12.735                   10.750  \n",
       "2                  12.405                   11.555  \n",
       "3                  12.370                    9.940  \n",
       "4                  12.670                   11.240  \n",
       "5                  12.640                   11.640  "
      ]
     },
     "execution_count": 36,
     "metadata": {},
     "output_type": "execute_result"
    }
   ],
   "source": [
    "funds_df.groupby(by=['Average Credit Quality'], as_index=False)['Yield (%)','YTD Return (%)','1 Year Annualized (%)','5 Years Annualized (%)','10 Years Annualized (%)'].median()"
   ]
  },
  {
   "cell_type": "markdown",
   "metadata": {},
   "source": [
    "**Q: What are the top Portfolio Sustainability Score, Portfolio Environmental Score, Portfolio Social Score, Portfolio Governance Score groupby Average Credit Quality?**"
   ]
  },
  {
   "cell_type": "code",
   "execution_count": 37,
   "metadata": {},
   "outputs": [
    {
     "data": {
      "text/html": [
       "<div>\n",
       "<style scoped>\n",
       "    .dataframe tbody tr th:only-of-type {\n",
       "        vertical-align: middle;\n",
       "    }\n",
       "\n",
       "    .dataframe tbody tr th {\n",
       "        vertical-align: top;\n",
       "    }\n",
       "\n",
       "    .dataframe thead th {\n",
       "        text-align: right;\n",
       "    }\n",
       "</style>\n",
       "<table border=\"1\" class=\"dataframe\">\n",
       "  <thead>\n",
       "    <tr style=\"text-align: right;\">\n",
       "      <th></th>\n",
       "      <th>Average Credit Quality</th>\n",
       "      <th>Portfolio Sustainability Score</th>\n",
       "      <th>Portfolio Environmental Score</th>\n",
       "      <th>Portfolio Social Score</th>\n",
       "      <th>Portfolio Governance Score</th>\n",
       "    </tr>\n",
       "  </thead>\n",
       "  <tbody>\n",
       "    <tr>\n",
       "      <th>0</th>\n",
       "      <td>A</td>\n",
       "      <td>22.410</td>\n",
       "      <td>3.720</td>\n",
       "      <td>9.290</td>\n",
       "      <td>7.05</td>\n",
       "    </tr>\n",
       "    <tr>\n",
       "      <th>1</th>\n",
       "      <td>AA</td>\n",
       "      <td>22.070</td>\n",
       "      <td>3.815</td>\n",
       "      <td>9.335</td>\n",
       "      <td>7.08</td>\n",
       "    </tr>\n",
       "    <tr>\n",
       "      <th>2</th>\n",
       "      <td>AAA</td>\n",
       "      <td>21.535</td>\n",
       "      <td>3.495</td>\n",
       "      <td>8.920</td>\n",
       "      <td>6.87</td>\n",
       "    </tr>\n",
       "    <tr>\n",
       "      <th>3</th>\n",
       "      <td>B</td>\n",
       "      <td>21.870</td>\n",
       "      <td>3.690</td>\n",
       "      <td>8.830</td>\n",
       "      <td>7.04</td>\n",
       "    </tr>\n",
       "    <tr>\n",
       "      <th>4</th>\n",
       "      <td>BB</td>\n",
       "      <td>22.310</td>\n",
       "      <td>3.850</td>\n",
       "      <td>9.100</td>\n",
       "      <td>6.96</td>\n",
       "    </tr>\n",
       "    <tr>\n",
       "      <th>5</th>\n",
       "      <td>BBB</td>\n",
       "      <td>22.300</td>\n",
       "      <td>3.720</td>\n",
       "      <td>9.120</td>\n",
       "      <td>7.02</td>\n",
       "    </tr>\n",
       "  </tbody>\n",
       "</table>\n",
       "</div>"
      ],
      "text/plain": [
       "  Average Credit Quality  Portfolio Sustainability Score  \\\n",
       "0                      A                          22.410   \n",
       "1                     AA                          22.070   \n",
       "2                    AAA                          21.535   \n",
       "3                      B                          21.870   \n",
       "4                     BB                          22.310   \n",
       "5                    BBB                          22.300   \n",
       "\n",
       "   Portfolio Environmental Score  Portfolio Social Score  \\\n",
       "0                          3.720                   9.290   \n",
       "1                          3.815                   9.335   \n",
       "2                          3.495                   8.920   \n",
       "3                          3.690                   8.830   \n",
       "4                          3.850                   9.100   \n",
       "5                          3.720                   9.120   \n",
       "\n",
       "   Portfolio Governance Score  \n",
       "0                        7.05  \n",
       "1                        7.08  \n",
       "2                        6.87  \n",
       "3                        7.04  \n",
       "4                        6.96  \n",
       "5                        7.02  "
      ]
     },
     "execution_count": 37,
     "metadata": {},
     "output_type": "execute_result"
    }
   ],
   "source": [
    "funds_df.groupby(by=['Average Credit Quality'], as_index=False)['Portfolio Sustainability Score','Portfolio Environmental Score','Portfolio Social Score','Portfolio Governance Score'].median()"
   ]
  },
  {
   "cell_type": "markdown",
   "metadata": {},
   "source": [
    "**Q: What are the top Animal Testing, % Alcohol, % Fossil Fuels, % Small Arms, % Thermal Coal, % Tobacco groupby Average Credit Quality?**"
   ]
  },
  {
   "cell_type": "code",
   "execution_count": 38,
   "metadata": {},
   "outputs": [
    {
     "data": {
      "text/html": [
       "<div>\n",
       "<style scoped>\n",
       "    .dataframe tbody tr th:only-of-type {\n",
       "        vertical-align: middle;\n",
       "    }\n",
       "\n",
       "    .dataframe tbody tr th {\n",
       "        vertical-align: top;\n",
       "    }\n",
       "\n",
       "    .dataframe thead th {\n",
       "        text-align: right;\n",
       "    }\n",
       "</style>\n",
       "<table border=\"1\" class=\"dataframe\">\n",
       "  <thead>\n",
       "    <tr style=\"text-align: right;\">\n",
       "      <th></th>\n",
       "      <th>Average Credit Quality</th>\n",
       "      <th>Animal Testing</th>\n",
       "      <th>% Alcohol</th>\n",
       "      <th>% Fossil Fuels</th>\n",
       "      <th>% Small Arms</th>\n",
       "      <th>% Thermal Coal</th>\n",
       "      <th>% Tobacco</th>\n",
       "    </tr>\n",
       "  </thead>\n",
       "  <tbody>\n",
       "    <tr>\n",
       "      <th>0</th>\n",
       "      <td>A</td>\n",
       "      <td>0</td>\n",
       "      <td>0.12</td>\n",
       "      <td>4.615</td>\n",
       "      <td>0.230</td>\n",
       "      <td>0.330</td>\n",
       "      <td>0.00</td>\n",
       "    </tr>\n",
       "    <tr>\n",
       "      <th>1</th>\n",
       "      <td>AA</td>\n",
       "      <td>0</td>\n",
       "      <td>0.00</td>\n",
       "      <td>4.980</td>\n",
       "      <td>0.315</td>\n",
       "      <td>0.145</td>\n",
       "      <td>0.00</td>\n",
       "    </tr>\n",
       "    <tr>\n",
       "      <th>2</th>\n",
       "      <td>AAA</td>\n",
       "      <td>0</td>\n",
       "      <td>0.00</td>\n",
       "      <td>2.430</td>\n",
       "      <td>0.000</td>\n",
       "      <td>0.000</td>\n",
       "      <td>0.00</td>\n",
       "    </tr>\n",
       "    <tr>\n",
       "      <th>3</th>\n",
       "      <td>B</td>\n",
       "      <td>0</td>\n",
       "      <td>0.00</td>\n",
       "      <td>3.660</td>\n",
       "      <td>0.000</td>\n",
       "      <td>0.000</td>\n",
       "      <td>0.00</td>\n",
       "    </tr>\n",
       "    <tr>\n",
       "      <th>4</th>\n",
       "      <td>BB</td>\n",
       "      <td>0</td>\n",
       "      <td>0.36</td>\n",
       "      <td>5.600</td>\n",
       "      <td>0.390</td>\n",
       "      <td>0.920</td>\n",
       "      <td>0.05</td>\n",
       "    </tr>\n",
       "    <tr>\n",
       "      <th>5</th>\n",
       "      <td>BBB</td>\n",
       "      <td>0</td>\n",
       "      <td>0.04</td>\n",
       "      <td>4.710</td>\n",
       "      <td>0.070</td>\n",
       "      <td>0.720</td>\n",
       "      <td>0.00</td>\n",
       "    </tr>\n",
       "  </tbody>\n",
       "</table>\n",
       "</div>"
      ],
      "text/plain": [
       "  Average Credit Quality  Animal Testing  % Alcohol  % Fossil Fuels  \\\n",
       "0                      A               0       0.12           4.615   \n",
       "1                     AA               0       0.00           4.980   \n",
       "2                    AAA               0       0.00           2.430   \n",
       "3                      B               0       0.00           3.660   \n",
       "4                     BB               0       0.36           5.600   \n",
       "5                    BBB               0       0.04           4.710   \n",
       "\n",
       "   % Small Arms  % Thermal Coal  % Tobacco  \n",
       "0         0.230           0.330       0.00  \n",
       "1         0.315           0.145       0.00  \n",
       "2         0.000           0.000       0.00  \n",
       "3         0.000           0.000       0.00  \n",
       "4         0.390           0.920       0.05  \n",
       "5         0.070           0.720       0.00  "
      ]
     },
     "execution_count": 38,
     "metadata": {},
     "output_type": "execute_result"
    }
   ],
   "source": [
    "funds_df.groupby(by=['Average Credit Quality'], as_index=False)['Animal Testing','% Alcohol','% Fossil Fuels','% Small Arms','% Thermal Coal','% Tobacco'].median()"
   ]
  },
  {
   "cell_type": "code",
   "execution_count": 40,
   "metadata": {},
   "outputs": [
    {
     "data": {
      "text/html": [
       "<div>\n",
       "<style scoped>\n",
       "    .dataframe tbody tr th:only-of-type {\n",
       "        vertical-align: middle;\n",
       "    }\n",
       "\n",
       "    .dataframe tbody tr th {\n",
       "        vertical-align: top;\n",
       "    }\n",
       "\n",
       "    .dataframe thead th {\n",
       "        text-align: right;\n",
       "    }\n",
       "</style>\n",
       "<table border=\"1\" class=\"dataframe\">\n",
       "  <thead>\n",
       "    <tr style=\"text-align: right;\">\n",
       "      <th></th>\n",
       "      <th>Morningstar Sustainability Rating</th>\n",
       "      <th>Average Credit Quality</th>\n",
       "      <th>Yield (%)</th>\n",
       "      <th>YTD Return (%)</th>\n",
       "      <th>1 Year Annualized (%)</th>\n",
       "      <th>5 Years Annualized (%)</th>\n",
       "      <th>10 Years Annualized (%)</th>\n",
       "    </tr>\n",
       "  </thead>\n",
       "  <tbody>\n",
       "    <tr>\n",
       "      <th>7</th>\n",
       "      <td>2.0</td>\n",
       "      <td>BB</td>\n",
       "      <td>2.890</td>\n",
       "      <td>1.970</td>\n",
       "      <td>6.840</td>\n",
       "      <td>14.410</td>\n",
       "      <td>12.170</td>\n",
       "    </tr>\n",
       "    <tr>\n",
       "      <th>8</th>\n",
       "      <td>2.0</td>\n",
       "      <td>BBB</td>\n",
       "      <td>2.560</td>\n",
       "      <td>0.240</td>\n",
       "      <td>2.510</td>\n",
       "      <td>3.330</td>\n",
       "      <td>3.910</td>\n",
       "    </tr>\n",
       "    <tr>\n",
       "      <th>2</th>\n",
       "      <td>1.0</td>\n",
       "      <td>BB</td>\n",
       "      <td>2.350</td>\n",
       "      <td>14.795</td>\n",
       "      <td>35.855</td>\n",
       "      <td>11.545</td>\n",
       "      <td>12.340</td>\n",
       "    </tr>\n",
       "    <tr>\n",
       "      <th>4</th>\n",
       "      <td>2.0</td>\n",
       "      <td>A</td>\n",
       "      <td>1.225</td>\n",
       "      <td>8.715</td>\n",
       "      <td>27.455</td>\n",
       "      <td>15.030</td>\n",
       "      <td>12.725</td>\n",
       "    </tr>\n",
       "    <tr>\n",
       "      <th>1</th>\n",
       "      <td>1.0</td>\n",
       "      <td>AA</td>\n",
       "      <td>1.190</td>\n",
       "      <td>22.310</td>\n",
       "      <td>61.880</td>\n",
       "      <td>15.900</td>\n",
       "      <td>9.740</td>\n",
       "    </tr>\n",
       "    <tr>\n",
       "      <th>22</th>\n",
       "      <td>5.0</td>\n",
       "      <td>AA</td>\n",
       "      <td>1.080</td>\n",
       "      <td>10.700</td>\n",
       "      <td>16.850</td>\n",
       "      <td>15.900</td>\n",
       "      <td>10.280</td>\n",
       "    </tr>\n",
       "    <tr>\n",
       "      <th>24</th>\n",
       "      <td>5.0</td>\n",
       "      <td>B</td>\n",
       "      <td>1.070</td>\n",
       "      <td>14.670</td>\n",
       "      <td>36.930</td>\n",
       "      <td>12.370</td>\n",
       "      <td>4.550</td>\n",
       "    </tr>\n",
       "    <tr>\n",
       "      <th>13</th>\n",
       "      <td>3.0</td>\n",
       "      <td>BB</td>\n",
       "      <td>0.990</td>\n",
       "      <td>14.180</td>\n",
       "      <td>29.310</td>\n",
       "      <td>11.860</td>\n",
       "      <td>10.510</td>\n",
       "    </tr>\n",
       "    <tr>\n",
       "      <th>5</th>\n",
       "      <td>2.0</td>\n",
       "      <td>AA</td>\n",
       "      <td>0.970</td>\n",
       "      <td>1.380</td>\n",
       "      <td>20.455</td>\n",
       "      <td>15.900</td>\n",
       "      <td>9.740</td>\n",
       "    </tr>\n",
       "    <tr>\n",
       "      <th>14</th>\n",
       "      <td>3.0</td>\n",
       "      <td>BBB</td>\n",
       "      <td>0.870</td>\n",
       "      <td>12.895</td>\n",
       "      <td>28.610</td>\n",
       "      <td>12.130</td>\n",
       "      <td>11.525</td>\n",
       "    </tr>\n",
       "    <tr>\n",
       "      <th>6</th>\n",
       "      <td>2.0</td>\n",
       "      <td>B</td>\n",
       "      <td>0.830</td>\n",
       "      <td>-1.310</td>\n",
       "      <td>5.920</td>\n",
       "      <td>8.360</td>\n",
       "      <td>7.410</td>\n",
       "    </tr>\n",
       "    <tr>\n",
       "      <th>9</th>\n",
       "      <td>3.0</td>\n",
       "      <td>A</td>\n",
       "      <td>0.820</td>\n",
       "      <td>10.920</td>\n",
       "      <td>18.490</td>\n",
       "      <td>12.480</td>\n",
       "      <td>11.610</td>\n",
       "    </tr>\n",
       "    <tr>\n",
       "      <th>10</th>\n",
       "      <td>3.0</td>\n",
       "      <td>AA</td>\n",
       "      <td>0.780</td>\n",
       "      <td>13.255</td>\n",
       "      <td>23.425</td>\n",
       "      <td>12.665</td>\n",
       "      <td>10.845</td>\n",
       "    </tr>\n",
       "    <tr>\n",
       "      <th>11</th>\n",
       "      <td>3.0</td>\n",
       "      <td>AAA</td>\n",
       "      <td>0.760</td>\n",
       "      <td>16.005</td>\n",
       "      <td>31.680</td>\n",
       "      <td>11.970</td>\n",
       "      <td>11.305</td>\n",
       "    </tr>\n",
       "    <tr>\n",
       "      <th>12</th>\n",
       "      <td>3.0</td>\n",
       "      <td>B</td>\n",
       "      <td>0.580</td>\n",
       "      <td>11.940</td>\n",
       "      <td>26.075</td>\n",
       "      <td>12.490</td>\n",
       "      <td>10.990</td>\n",
       "    </tr>\n",
       "    <tr>\n",
       "      <th>20</th>\n",
       "      <td>4.0</td>\n",
       "      <td>BBB</td>\n",
       "      <td>0.545</td>\n",
       "      <td>13.530</td>\n",
       "      <td>24.705</td>\n",
       "      <td>13.150</td>\n",
       "      <td>12.090</td>\n",
       "    </tr>\n",
       "    <tr>\n",
       "      <th>18</th>\n",
       "      <td>4.0</td>\n",
       "      <td>B</td>\n",
       "      <td>0.540</td>\n",
       "      <td>12.260</td>\n",
       "      <td>24.080</td>\n",
       "      <td>13.180</td>\n",
       "      <td>10.735</td>\n",
       "    </tr>\n",
       "    <tr>\n",
       "      <th>19</th>\n",
       "      <td>4.0</td>\n",
       "      <td>BB</td>\n",
       "      <td>0.420</td>\n",
       "      <td>14.180</td>\n",
       "      <td>28.630</td>\n",
       "      <td>12.410</td>\n",
       "      <td>12.310</td>\n",
       "    </tr>\n",
       "    <tr>\n",
       "      <th>21</th>\n",
       "      <td>5.0</td>\n",
       "      <td>A</td>\n",
       "      <td>0.380</td>\n",
       "      <td>14.630</td>\n",
       "      <td>26.380</td>\n",
       "      <td>15.400</td>\n",
       "      <td>12.540</td>\n",
       "    </tr>\n",
       "    <tr>\n",
       "      <th>23</th>\n",
       "      <td>5.0</td>\n",
       "      <td>AAA</td>\n",
       "      <td>0.370</td>\n",
       "      <td>15.350</td>\n",
       "      <td>21.320</td>\n",
       "      <td>12.830</td>\n",
       "      <td>12.770</td>\n",
       "    </tr>\n",
       "    <tr>\n",
       "      <th>15</th>\n",
       "      <td>4.0</td>\n",
       "      <td>A</td>\n",
       "      <td>0.370</td>\n",
       "      <td>13.375</td>\n",
       "      <td>24.025</td>\n",
       "      <td>13.105</td>\n",
       "      <td>11.675</td>\n",
       "    </tr>\n",
       "    <tr>\n",
       "      <th>16</th>\n",
       "      <td>4.0</td>\n",
       "      <td>AA</td>\n",
       "      <td>0.340</td>\n",
       "      <td>13.845</td>\n",
       "      <td>22.845</td>\n",
       "      <td>12.510</td>\n",
       "      <td>11.190</td>\n",
       "    </tr>\n",
       "    <tr>\n",
       "      <th>17</th>\n",
       "      <td>4.0</td>\n",
       "      <td>AAA</td>\n",
       "      <td>0.270</td>\n",
       "      <td>15.270</td>\n",
       "      <td>33.120</td>\n",
       "      <td>12.570</td>\n",
       "      <td>11.620</td>\n",
       "    </tr>\n",
       "    <tr>\n",
       "      <th>26</th>\n",
       "      <td>5.0</td>\n",
       "      <td>BBB</td>\n",
       "      <td>0.230</td>\n",
       "      <td>16.020</td>\n",
       "      <td>32.370</td>\n",
       "      <td>16.100</td>\n",
       "      <td>13.150</td>\n",
       "    </tr>\n",
       "    <tr>\n",
       "      <th>25</th>\n",
       "      <td>5.0</td>\n",
       "      <td>BB</td>\n",
       "      <td>0.130</td>\n",
       "      <td>15.280</td>\n",
       "      <td>34.240</td>\n",
       "      <td>16.140</td>\n",
       "      <td>13.650</td>\n",
       "    </tr>\n",
       "    <tr>\n",
       "      <th>3</th>\n",
       "      <td>1.0</td>\n",
       "      <td>BBB</td>\n",
       "      <td>0.000</td>\n",
       "      <td>28.060</td>\n",
       "      <td>53.270</td>\n",
       "      <td>19.310</td>\n",
       "      <td>10.610</td>\n",
       "    </tr>\n",
       "    <tr>\n",
       "      <th>0</th>\n",
       "      <td>1.0</td>\n",
       "      <td>A</td>\n",
       "      <td>0.000</td>\n",
       "      <td>5.250</td>\n",
       "      <td>29.090</td>\n",
       "      <td>7.230</td>\n",
       "      <td>7.620</td>\n",
       "    </tr>\n",
       "  </tbody>\n",
       "</table>\n",
       "</div>"
      ],
      "text/plain": [
       "    Morningstar Sustainability Rating Average Credit Quality  Yield (%)  \\\n",
       "7                                 2.0                     BB      2.890   \n",
       "8                                 2.0                    BBB      2.560   \n",
       "2                                 1.0                     BB      2.350   \n",
       "4                                 2.0                      A      1.225   \n",
       "1                                 1.0                     AA      1.190   \n",
       "22                                5.0                     AA      1.080   \n",
       "24                                5.0                      B      1.070   \n",
       "13                                3.0                     BB      0.990   \n",
       "5                                 2.0                     AA      0.970   \n",
       "14                                3.0                    BBB      0.870   \n",
       "6                                 2.0                      B      0.830   \n",
       "9                                 3.0                      A      0.820   \n",
       "10                                3.0                     AA      0.780   \n",
       "11                                3.0                    AAA      0.760   \n",
       "12                                3.0                      B      0.580   \n",
       "20                                4.0                    BBB      0.545   \n",
       "18                                4.0                      B      0.540   \n",
       "19                                4.0                     BB      0.420   \n",
       "21                                5.0                      A      0.380   \n",
       "23                                5.0                    AAA      0.370   \n",
       "15                                4.0                      A      0.370   \n",
       "16                                4.0                     AA      0.340   \n",
       "17                                4.0                    AAA      0.270   \n",
       "26                                5.0                    BBB      0.230   \n",
       "25                                5.0                     BB      0.130   \n",
       "3                                 1.0                    BBB      0.000   \n",
       "0                                 1.0                      A      0.000   \n",
       "\n",
       "    YTD Return (%)  1 Year Annualized (%)  5 Years Annualized (%)  \\\n",
       "7            1.970                  6.840                  14.410   \n",
       "8            0.240                  2.510                   3.330   \n",
       "2           14.795                 35.855                  11.545   \n",
       "4            8.715                 27.455                  15.030   \n",
       "1           22.310                 61.880                  15.900   \n",
       "22          10.700                 16.850                  15.900   \n",
       "24          14.670                 36.930                  12.370   \n",
       "13          14.180                 29.310                  11.860   \n",
       "5            1.380                 20.455                  15.900   \n",
       "14          12.895                 28.610                  12.130   \n",
       "6           -1.310                  5.920                   8.360   \n",
       "9           10.920                 18.490                  12.480   \n",
       "10          13.255                 23.425                  12.665   \n",
       "11          16.005                 31.680                  11.970   \n",
       "12          11.940                 26.075                  12.490   \n",
       "20          13.530                 24.705                  13.150   \n",
       "18          12.260                 24.080                  13.180   \n",
       "19          14.180                 28.630                  12.410   \n",
       "21          14.630                 26.380                  15.400   \n",
       "23          15.350                 21.320                  12.830   \n",
       "15          13.375                 24.025                  13.105   \n",
       "16          13.845                 22.845                  12.510   \n",
       "17          15.270                 33.120                  12.570   \n",
       "26          16.020                 32.370                  16.100   \n",
       "25          15.280                 34.240                  16.140   \n",
       "3           28.060                 53.270                  19.310   \n",
       "0            5.250                 29.090                   7.230   \n",
       "\n",
       "    10 Years Annualized (%)  \n",
       "7                    12.170  \n",
       "8                     3.910  \n",
       "2                    12.340  \n",
       "4                    12.725  \n",
       "1                     9.740  \n",
       "22                   10.280  \n",
       "24                    4.550  \n",
       "13                   10.510  \n",
       "5                     9.740  \n",
       "14                   11.525  \n",
       "6                     7.410  \n",
       "9                    11.610  \n",
       "10                   10.845  \n",
       "11                   11.305  \n",
       "12                   10.990  \n",
       "20                   12.090  \n",
       "18                   10.735  \n",
       "19                   12.310  \n",
       "21                   12.540  \n",
       "23                   12.770  \n",
       "15                   11.675  \n",
       "16                   11.190  \n",
       "17                   11.620  \n",
       "26                   13.150  \n",
       "25                   13.650  \n",
       "3                    10.610  \n",
       "0                     7.620  "
      ]
     },
     "execution_count": 40,
     "metadata": {},
     "output_type": "execute_result"
    }
   ],
   "source": [
    "funds_df.groupby(by=['Morningstar Sustainability Rating','Average Credit Quality'], as_index=False)['Yield (%)','YTD Return (%)','1 Year Annualized (%)','5 Years Annualized (%)','10 Years Annualized (%)'].agg('median').sort_values(by ='Yield (%)', ascending = False)"
   ]
  },
  {
   "cell_type": "code",
   "execution_count": 41,
   "metadata": {},
   "outputs": [
    {
     "data": {
      "text/html": [
       "<div>\n",
       "<style scoped>\n",
       "    .dataframe tbody tr th:only-of-type {\n",
       "        vertical-align: middle;\n",
       "    }\n",
       "\n",
       "    .dataframe tbody tr th {\n",
       "        vertical-align: top;\n",
       "    }\n",
       "\n",
       "    .dataframe thead th {\n",
       "        text-align: right;\n",
       "    }\n",
       "</style>\n",
       "<table border=\"1\" class=\"dataframe\">\n",
       "  <thead>\n",
       "    <tr style=\"text-align: right;\">\n",
       "      <th></th>\n",
       "      <th>Morningstar Category</th>\n",
       "      <th>Yield (%)</th>\n",
       "      <th>YTD Return (%)</th>\n",
       "      <th>Animal Testing</th>\n",
       "      <th>% Alcohol</th>\n",
       "      <th>% Fossil Fuels</th>\n",
       "      <th>% Small Arms</th>\n",
       "      <th>% Thermal Coal</th>\n",
       "      <th>% Tobacco</th>\n",
       "    </tr>\n",
       "  </thead>\n",
       "  <tbody>\n",
       "    <tr>\n",
       "      <th>9</th>\n",
       "      <td>Energy Sector Equity</td>\n",
       "      <td>3.400</td>\n",
       "      <td>44.790</td>\n",
       "      <td>0</td>\n",
       "      <td>0.000</td>\n",
       "      <td>90.790</td>\n",
       "      <td>0.000</td>\n",
       "      <td>0.110</td>\n",
       "      <td>0.000</td>\n",
       "    </tr>\n",
       "    <tr>\n",
       "      <th>5</th>\n",
       "      <td>Commodities Broad Basket</td>\n",
       "      <td>0.000</td>\n",
       "      <td>31.970</td>\n",
       "      <td>0</td>\n",
       "      <td>0.000</td>\n",
       "      <td>0.000</td>\n",
       "      <td>0.000</td>\n",
       "      <td>0.000</td>\n",
       "      <td>0.000</td>\n",
       "    </tr>\n",
       "    <tr>\n",
       "      <th>14</th>\n",
       "      <td>Financials Sector Equity</td>\n",
       "      <td>0.985</td>\n",
       "      <td>31.100</td>\n",
       "      <td>0</td>\n",
       "      <td>0.000</td>\n",
       "      <td>0.000</td>\n",
       "      <td>0.000</td>\n",
       "      <td>0.000</td>\n",
       "      <td>0.000</td>\n",
       "    </tr>\n",
       "    <tr>\n",
       "      <th>36</th>\n",
       "      <td>Real Estate Sector Equity</td>\n",
       "      <td>1.420</td>\n",
       "      <td>29.480</td>\n",
       "      <td>0</td>\n",
       "      <td>0.000</td>\n",
       "      <td>0.000</td>\n",
       "      <td>0.000</td>\n",
       "      <td>0.000</td>\n",
       "      <td>0.000</td>\n",
       "    </tr>\n",
       "    <tr>\n",
       "      <th>25</th>\n",
       "      <td>Industrials Sector Equity</td>\n",
       "      <td>0.705</td>\n",
       "      <td>26.810</td>\n",
       "      <td>0</td>\n",
       "      <td>0.000</td>\n",
       "      <td>7.175</td>\n",
       "      <td>0.180</td>\n",
       "      <td>0.750</td>\n",
       "      <td>0.000</td>\n",
       "    </tr>\n",
       "    <tr>\n",
       "      <th>24</th>\n",
       "      <td>India Equity</td>\n",
       "      <td>0.000</td>\n",
       "      <td>24.125</td>\n",
       "      <td>0</td>\n",
       "      <td>0.625</td>\n",
       "      <td>7.100</td>\n",
       "      <td>0.000</td>\n",
       "      <td>0.955</td>\n",
       "      <td>0.000</td>\n",
       "    </tr>\n",
       "    <tr>\n",
       "      <th>39</th>\n",
       "      <td>US Equity Large Cap Blend</td>\n",
       "      <td>0.600</td>\n",
       "      <td>23.330</td>\n",
       "      <td>0</td>\n",
       "      <td>0.000</td>\n",
       "      <td>4.480</td>\n",
       "      <td>0.630</td>\n",
       "      <td>0.240</td>\n",
       "      <td>0.000</td>\n",
       "    </tr>\n",
       "    <tr>\n",
       "      <th>33</th>\n",
       "      <td>Natural Resources Sector Equity</td>\n",
       "      <td>0.570</td>\n",
       "      <td>23.030</td>\n",
       "      <td>0</td>\n",
       "      <td>0.000</td>\n",
       "      <td>2.630</td>\n",
       "      <td>3.730</td>\n",
       "      <td>0.000</td>\n",
       "      <td>0.000</td>\n",
       "    </tr>\n",
       "    <tr>\n",
       "      <th>40</th>\n",
       "      <td>US Equity Large Cap Growth</td>\n",
       "      <td>0.000</td>\n",
       "      <td>22.480</td>\n",
       "      <td>0</td>\n",
       "      <td>0.000</td>\n",
       "      <td>0.060</td>\n",
       "      <td>0.000</td>\n",
       "      <td>0.000</td>\n",
       "      <td>0.000</td>\n",
       "    </tr>\n",
       "    <tr>\n",
       "      <th>41</th>\n",
       "      <td>US Equity Large Cap Value</td>\n",
       "      <td>1.230</td>\n",
       "      <td>21.080</td>\n",
       "      <td>0</td>\n",
       "      <td>0.000</td>\n",
       "      <td>9.850</td>\n",
       "      <td>1.850</td>\n",
       "      <td>1.620</td>\n",
       "      <td>0.010</td>\n",
       "    </tr>\n",
       "    <tr>\n",
       "      <th>38</th>\n",
       "      <td>Technology Sector Equity</td>\n",
       "      <td>0.000</td>\n",
       "      <td>20.975</td>\n",
       "      <td>0</td>\n",
       "      <td>0.000</td>\n",
       "      <td>0.000</td>\n",
       "      <td>0.000</td>\n",
       "      <td>0.000</td>\n",
       "      <td>0.000</td>\n",
       "    </tr>\n",
       "    <tr>\n",
       "      <th>42</th>\n",
       "      <td>US Equity Mid Cap</td>\n",
       "      <td>0.040</td>\n",
       "      <td>19.075</td>\n",
       "      <td>0</td>\n",
       "      <td>0.000</td>\n",
       "      <td>1.980</td>\n",
       "      <td>0.000</td>\n",
       "      <td>0.000</td>\n",
       "      <td>0.000</td>\n",
       "    </tr>\n",
       "    <tr>\n",
       "      <th>43</th>\n",
       "      <td>US Equity Small Cap</td>\n",
       "      <td>0.000</td>\n",
       "      <td>17.730</td>\n",
       "      <td>0</td>\n",
       "      <td>0.000</td>\n",
       "      <td>1.890</td>\n",
       "      <td>0.000</td>\n",
       "      <td>0.000</td>\n",
       "      <td>0.000</td>\n",
       "    </tr>\n",
       "    <tr>\n",
       "      <th>7</th>\n",
       "      <td>Consumer Goods &amp; Services Sector Equity</td>\n",
       "      <td>0.000</td>\n",
       "      <td>17.545</td>\n",
       "      <td>0</td>\n",
       "      <td>0.570</td>\n",
       "      <td>0.000</td>\n",
       "      <td>0.000</td>\n",
       "      <td>0.000</td>\n",
       "      <td>0.000</td>\n",
       "    </tr>\n",
       "    <tr>\n",
       "      <th>10</th>\n",
       "      <td>Equity Miscellaneous</td>\n",
       "      <td>1.340</td>\n",
       "      <td>16.630</td>\n",
       "      <td>0</td>\n",
       "      <td>0.150</td>\n",
       "      <td>7.770</td>\n",
       "      <td>0.810</td>\n",
       "      <td>1.800</td>\n",
       "      <td>0.010</td>\n",
       "    </tr>\n",
       "    <tr>\n",
       "      <th>13</th>\n",
       "      <td>Europe Equity Mid/Small Cap</td>\n",
       "      <td>0.000</td>\n",
       "      <td>16.620</td>\n",
       "      <td>0</td>\n",
       "      <td>0.000</td>\n",
       "      <td>0.000</td>\n",
       "      <td>0.000</td>\n",
       "      <td>0.000</td>\n",
       "      <td>0.000</td>\n",
       "    </tr>\n",
       "    <tr>\n",
       "      <th>6</th>\n",
       "      <td>Communications Sector Equity</td>\n",
       "      <td>0.000</td>\n",
       "      <td>16.115</td>\n",
       "      <td>0</td>\n",
       "      <td>0.000</td>\n",
       "      <td>0.000</td>\n",
       "      <td>0.000</td>\n",
       "      <td>0.000</td>\n",
       "      <td>0.000</td>\n",
       "    </tr>\n",
       "    <tr>\n",
       "      <th>12</th>\n",
       "      <td>Europe Equity Large Cap</td>\n",
       "      <td>0.310</td>\n",
       "      <td>15.185</td>\n",
       "      <td>0</td>\n",
       "      <td>4.680</td>\n",
       "      <td>6.330</td>\n",
       "      <td>0.000</td>\n",
       "      <td>0.000</td>\n",
       "      <td>0.000</td>\n",
       "    </tr>\n",
       "    <tr>\n",
       "      <th>19</th>\n",
       "      <td>Global Equity Mid/Small Cap</td>\n",
       "      <td>0.000</td>\n",
       "      <td>14.315</td>\n",
       "      <td>0</td>\n",
       "      <td>0.000</td>\n",
       "      <td>1.570</td>\n",
       "      <td>0.000</td>\n",
       "      <td>0.000</td>\n",
       "      <td>0.000</td>\n",
       "    </tr>\n",
       "    <tr>\n",
       "      <th>0</th>\n",
       "      <td>Aggressive Allocation</td>\n",
       "      <td>1.005</td>\n",
       "      <td>13.840</td>\n",
       "      <td>0</td>\n",
       "      <td>0.850</td>\n",
       "      <td>6.395</td>\n",
       "      <td>0.750</td>\n",
       "      <td>1.050</td>\n",
       "      <td>0.515</td>\n",
       "    </tr>\n",
       "    <tr>\n",
       "      <th>37</th>\n",
       "      <td>Target Date</td>\n",
       "      <td>1.190</td>\n",
       "      <td>13.465</td>\n",
       "      <td>0</td>\n",
       "      <td>0.950</td>\n",
       "      <td>6.690</td>\n",
       "      <td>0.730</td>\n",
       "      <td>0.990</td>\n",
       "      <td>0.610</td>\n",
       "    </tr>\n",
       "    <tr>\n",
       "      <th>26</th>\n",
       "      <td>Infrastructure Sector Equity</td>\n",
       "      <td>1.340</td>\n",
       "      <td>12.285</td>\n",
       "      <td>0</td>\n",
       "      <td>0.000</td>\n",
       "      <td>49.165</td>\n",
       "      <td>0.000</td>\n",
       "      <td>7.675</td>\n",
       "      <td>0.000</td>\n",
       "    </tr>\n",
       "    <tr>\n",
       "      <th>31</th>\n",
       "      <td>Moderate Allocation</td>\n",
       "      <td>1.030</td>\n",
       "      <td>11.600</td>\n",
       "      <td>0</td>\n",
       "      <td>0.480</td>\n",
       "      <td>5.730</td>\n",
       "      <td>0.600</td>\n",
       "      <td>0.990</td>\n",
       "      <td>0.310</td>\n",
       "    </tr>\n",
       "    <tr>\n",
       "      <th>18</th>\n",
       "      <td>Global Equity Large Cap</td>\n",
       "      <td>0.370</td>\n",
       "      <td>10.765</td>\n",
       "      <td>0</td>\n",
       "      <td>1.860</td>\n",
       "      <td>4.555</td>\n",
       "      <td>0.260</td>\n",
       "      <td>0.000</td>\n",
       "      <td>0.000</td>\n",
       "    </tr>\n",
       "    <tr>\n",
       "      <th>29</th>\n",
       "      <td>Long/Short Equity</td>\n",
       "      <td>0.000</td>\n",
       "      <td>10.510</td>\n",
       "      <td>0</td>\n",
       "      <td>0.180</td>\n",
       "      <td>5.200</td>\n",
       "      <td>0.390</td>\n",
       "      <td>0.000</td>\n",
       "      <td>0.000</td>\n",
       "    </tr>\n",
       "    <tr>\n",
       "      <th>34</th>\n",
       "      <td>Options Trading</td>\n",
       "      <td>0.360</td>\n",
       "      <td>10.470</td>\n",
       "      <td>0</td>\n",
       "      <td>0.160</td>\n",
       "      <td>6.720</td>\n",
       "      <td>0.850</td>\n",
       "      <td>1.240</td>\n",
       "      <td>0.660</td>\n",
       "    </tr>\n",
       "    <tr>\n",
       "      <th>46</th>\n",
       "      <td>Utilities Sector Equity</td>\n",
       "      <td>2.005</td>\n",
       "      <td>9.235</td>\n",
       "      <td>0</td>\n",
       "      <td>0.000</td>\n",
       "      <td>81.765</td>\n",
       "      <td>0.000</td>\n",
       "      <td>43.690</td>\n",
       "      <td>0.000</td>\n",
       "    </tr>\n",
       "    <tr>\n",
       "      <th>16</th>\n",
       "      <td>Flexible Allocation</td>\n",
       "      <td>1.410</td>\n",
       "      <td>9.175</td>\n",
       "      <td>0</td>\n",
       "      <td>0.600</td>\n",
       "      <td>7.170</td>\n",
       "      <td>0.760</td>\n",
       "      <td>1.410</td>\n",
       "      <td>0.810</td>\n",
       "    </tr>\n",
       "    <tr>\n",
       "      <th>23</th>\n",
       "      <td>Healthcare Sector Equity</td>\n",
       "      <td>0.000</td>\n",
       "      <td>9.000</td>\n",
       "      <td>0</td>\n",
       "      <td>0.000</td>\n",
       "      <td>0.000</td>\n",
       "      <td>0.000</td>\n",
       "      <td>0.000</td>\n",
       "      <td>0.000</td>\n",
       "    </tr>\n",
       "    <tr>\n",
       "      <th>21</th>\n",
       "      <td>Global Macro</td>\n",
       "      <td>0.360</td>\n",
       "      <td>6.940</td>\n",
       "      <td>0</td>\n",
       "      <td>0.230</td>\n",
       "      <td>3.070</td>\n",
       "      <td>0.100</td>\n",
       "      <td>0.280</td>\n",
       "      <td>0.210</td>\n",
       "    </tr>\n",
       "    <tr>\n",
       "      <th>4</th>\n",
       "      <td>Cautious Allocation</td>\n",
       "      <td>1.880</td>\n",
       "      <td>6.075</td>\n",
       "      <td>0</td>\n",
       "      <td>0.465</td>\n",
       "      <td>5.660</td>\n",
       "      <td>0.505</td>\n",
       "      <td>1.270</td>\n",
       "      <td>0.440</td>\n",
       "    </tr>\n",
       "    <tr>\n",
       "      <th>32</th>\n",
       "      <td>Multialternative</td>\n",
       "      <td>0.610</td>\n",
       "      <td>5.010</td>\n",
       "      <td>0</td>\n",
       "      <td>0.180</td>\n",
       "      <td>5.870</td>\n",
       "      <td>0.360</td>\n",
       "      <td>1.810</td>\n",
       "      <td>0.290</td>\n",
       "    </tr>\n",
       "    <tr>\n",
       "      <th>27</th>\n",
       "      <td>Japan Equity</td>\n",
       "      <td>0.410</td>\n",
       "      <td>4.070</td>\n",
       "      <td>0</td>\n",
       "      <td>0.000</td>\n",
       "      <td>2.200</td>\n",
       "      <td>0.530</td>\n",
       "      <td>0.000</td>\n",
       "      <td>1.820</td>\n",
       "    </tr>\n",
       "    <tr>\n",
       "      <th>1</th>\n",
       "      <td>Alternative Miscellaneous</td>\n",
       "      <td>2.210</td>\n",
       "      <td>3.990</td>\n",
       "      <td>0</td>\n",
       "      <td>0.480</td>\n",
       "      <td>1.840</td>\n",
       "      <td>0.150</td>\n",
       "      <td>0.260</td>\n",
       "      <td>0.680</td>\n",
       "    </tr>\n",
       "    <tr>\n",
       "      <th>30</th>\n",
       "      <td>Market Neutral</td>\n",
       "      <td>0.000</td>\n",
       "      <td>2.660</td>\n",
       "      <td>0</td>\n",
       "      <td>0.190</td>\n",
       "      <td>6.810</td>\n",
       "      <td>0.120</td>\n",
       "      <td>1.610</td>\n",
       "      <td>0.530</td>\n",
       "    </tr>\n",
       "    <tr>\n",
       "      <th>45</th>\n",
       "      <td>US Municipal Fixed Income</td>\n",
       "      <td>1.670</td>\n",
       "      <td>0.490</td>\n",
       "      <td>0</td>\n",
       "      <td>0.000</td>\n",
       "      <td>0.730</td>\n",
       "      <td>0.000</td>\n",
       "      <td>0.000</td>\n",
       "      <td>0.000</td>\n",
       "    </tr>\n",
       "    <tr>\n",
       "      <th>2</th>\n",
       "      <td>Asia Equity</td>\n",
       "      <td>0.780</td>\n",
       "      <td>-0.410</td>\n",
       "      <td>0</td>\n",
       "      <td>0.550</td>\n",
       "      <td>1.920</td>\n",
       "      <td>0.000</td>\n",
       "      <td>0.000</td>\n",
       "      <td>0.000</td>\n",
       "    </tr>\n",
       "    <tr>\n",
       "      <th>15</th>\n",
       "      <td>Fixed Income Miscellaneous</td>\n",
       "      <td>2.010</td>\n",
       "      <td>-0.480</td>\n",
       "      <td>0</td>\n",
       "      <td>0.055</td>\n",
       "      <td>5.400</td>\n",
       "      <td>0.240</td>\n",
       "      <td>0.665</td>\n",
       "      <td>0.435</td>\n",
       "    </tr>\n",
       "    <tr>\n",
       "      <th>44</th>\n",
       "      <td>US Fixed Income</td>\n",
       "      <td>1.820</td>\n",
       "      <td>-0.810</td>\n",
       "      <td>0</td>\n",
       "      <td>0.000</td>\n",
       "      <td>3.800</td>\n",
       "      <td>0.000</td>\n",
       "      <td>0.920</td>\n",
       "      <td>0.000</td>\n",
       "    </tr>\n",
       "    <tr>\n",
       "      <th>17</th>\n",
       "      <td>Global Emerging Markets Equity</td>\n",
       "      <td>0.320</td>\n",
       "      <td>-1.380</td>\n",
       "      <td>0</td>\n",
       "      <td>1.090</td>\n",
       "      <td>4.770</td>\n",
       "      <td>0.000</td>\n",
       "      <td>0.000</td>\n",
       "      <td>0.000</td>\n",
       "    </tr>\n",
       "    <tr>\n",
       "      <th>3</th>\n",
       "      <td>Asia ex-Japan Equity</td>\n",
       "      <td>0.340</td>\n",
       "      <td>-1.380</td>\n",
       "      <td>0</td>\n",
       "      <td>0.000</td>\n",
       "      <td>2.790</td>\n",
       "      <td>0.000</td>\n",
       "      <td>0.000</td>\n",
       "      <td>0.000</td>\n",
       "    </tr>\n",
       "    <tr>\n",
       "      <th>8</th>\n",
       "      <td>Emerging Markets Fixed Income</td>\n",
       "      <td>3.880</td>\n",
       "      <td>-2.855</td>\n",
       "      <td>0</td>\n",
       "      <td>0.000</td>\n",
       "      <td>17.170</td>\n",
       "      <td>0.000</td>\n",
       "      <td>3.260</td>\n",
       "      <td>0.000</td>\n",
       "    </tr>\n",
       "    <tr>\n",
       "      <th>20</th>\n",
       "      <td>Global Fixed Income</td>\n",
       "      <td>1.610</td>\n",
       "      <td>-2.995</td>\n",
       "      <td>0</td>\n",
       "      <td>0.010</td>\n",
       "      <td>4.130</td>\n",
       "      <td>0.000</td>\n",
       "      <td>0.400</td>\n",
       "      <td>0.300</td>\n",
       "    </tr>\n",
       "    <tr>\n",
       "      <th>11</th>\n",
       "      <td>Europe Emerging Markets Equity</td>\n",
       "      <td>0.010</td>\n",
       "      <td>-6.410</td>\n",
       "      <td>0</td>\n",
       "      <td>0.000</td>\n",
       "      <td>0.700</td>\n",
       "      <td>0.000</td>\n",
       "      <td>0.000</td>\n",
       "      <td>0.000</td>\n",
       "    </tr>\n",
       "    <tr>\n",
       "      <th>22</th>\n",
       "      <td>Greater China Equity</td>\n",
       "      <td>0.235</td>\n",
       "      <td>-8.730</td>\n",
       "      <td>0</td>\n",
       "      <td>2.600</td>\n",
       "      <td>0.070</td>\n",
       "      <td>0.000</td>\n",
       "      <td>0.000</td>\n",
       "      <td>0.000</td>\n",
       "    </tr>\n",
       "    <tr>\n",
       "      <th>35</th>\n",
       "      <td>Precious Metals Sector Equity</td>\n",
       "      <td>1.610</td>\n",
       "      <td>-10.460</td>\n",
       "      <td>0</td>\n",
       "      <td>0.000</td>\n",
       "      <td>6.060</td>\n",
       "      <td>0.000</td>\n",
       "      <td>0.000</td>\n",
       "      <td>0.000</td>\n",
       "    </tr>\n",
       "    <tr>\n",
       "      <th>28</th>\n",
       "      <td>Latin America Equity</td>\n",
       "      <td>0.480</td>\n",
       "      <td>-16.140</td>\n",
       "      <td>0</td>\n",
       "      <td>0.780</td>\n",
       "      <td>9.120</td>\n",
       "      <td>0.000</td>\n",
       "      <td>0.000</td>\n",
       "      <td>0.000</td>\n",
       "    </tr>\n",
       "  </tbody>\n",
       "</table>\n",
       "</div>"
      ],
      "text/plain": [
       "                       Morningstar Category  Yield (%)  YTD Return (%)  \\\n",
       "9                      Energy Sector Equity      3.400          44.790   \n",
       "5                  Commodities Broad Basket      0.000          31.970   \n",
       "14                 Financials Sector Equity      0.985          31.100   \n",
       "36                Real Estate Sector Equity      1.420          29.480   \n",
       "25                Industrials Sector Equity      0.705          26.810   \n",
       "24                             India Equity      0.000          24.125   \n",
       "39                US Equity Large Cap Blend      0.600          23.330   \n",
       "33          Natural Resources Sector Equity      0.570          23.030   \n",
       "40               US Equity Large Cap Growth      0.000          22.480   \n",
       "41                US Equity Large Cap Value      1.230          21.080   \n",
       "38                 Technology Sector Equity      0.000          20.975   \n",
       "42                        US Equity Mid Cap      0.040          19.075   \n",
       "43                      US Equity Small Cap      0.000          17.730   \n",
       "7   Consumer Goods & Services Sector Equity      0.000          17.545   \n",
       "10                     Equity Miscellaneous      1.340          16.630   \n",
       "13              Europe Equity Mid/Small Cap      0.000          16.620   \n",
       "6              Communications Sector Equity      0.000          16.115   \n",
       "12                  Europe Equity Large Cap      0.310          15.185   \n",
       "19              Global Equity Mid/Small Cap      0.000          14.315   \n",
       "0                     Aggressive Allocation      1.005          13.840   \n",
       "37                              Target Date      1.190          13.465   \n",
       "26             Infrastructure Sector Equity      1.340          12.285   \n",
       "31                      Moderate Allocation      1.030          11.600   \n",
       "18                  Global Equity Large Cap      0.370          10.765   \n",
       "29                        Long/Short Equity      0.000          10.510   \n",
       "34                          Options Trading      0.360          10.470   \n",
       "46                  Utilities Sector Equity      2.005           9.235   \n",
       "16                      Flexible Allocation      1.410           9.175   \n",
       "23                 Healthcare Sector Equity      0.000           9.000   \n",
       "21                             Global Macro      0.360           6.940   \n",
       "4                       Cautious Allocation      1.880           6.075   \n",
       "32                         Multialternative      0.610           5.010   \n",
       "27                             Japan Equity      0.410           4.070   \n",
       "1                 Alternative Miscellaneous      2.210           3.990   \n",
       "30                           Market Neutral      0.000           2.660   \n",
       "45                US Municipal Fixed Income      1.670           0.490   \n",
       "2                               Asia Equity      0.780          -0.410   \n",
       "15               Fixed Income Miscellaneous      2.010          -0.480   \n",
       "44                          US Fixed Income      1.820          -0.810   \n",
       "17           Global Emerging Markets Equity      0.320          -1.380   \n",
       "3                      Asia ex-Japan Equity      0.340          -1.380   \n",
       "8             Emerging Markets Fixed Income      3.880          -2.855   \n",
       "20                      Global Fixed Income      1.610          -2.995   \n",
       "11           Europe Emerging Markets Equity      0.010          -6.410   \n",
       "22                     Greater China Equity      0.235          -8.730   \n",
       "35            Precious Metals Sector Equity      1.610         -10.460   \n",
       "28                     Latin America Equity      0.480         -16.140   \n",
       "\n",
       "    Animal Testing  % Alcohol  % Fossil Fuels  % Small Arms  % Thermal Coal  \\\n",
       "9                0      0.000          90.790         0.000           0.110   \n",
       "5                0      0.000           0.000         0.000           0.000   \n",
       "14               0      0.000           0.000         0.000           0.000   \n",
       "36               0      0.000           0.000         0.000           0.000   \n",
       "25               0      0.000           7.175         0.180           0.750   \n",
       "24               0      0.625           7.100         0.000           0.955   \n",
       "39               0      0.000           4.480         0.630           0.240   \n",
       "33               0      0.000           2.630         3.730           0.000   \n",
       "40               0      0.000           0.060         0.000           0.000   \n",
       "41               0      0.000           9.850         1.850           1.620   \n",
       "38               0      0.000           0.000         0.000           0.000   \n",
       "42               0      0.000           1.980         0.000           0.000   \n",
       "43               0      0.000           1.890         0.000           0.000   \n",
       "7                0      0.570           0.000         0.000           0.000   \n",
       "10               0      0.150           7.770         0.810           1.800   \n",
       "13               0      0.000           0.000         0.000           0.000   \n",
       "6                0      0.000           0.000         0.000           0.000   \n",
       "12               0      4.680           6.330         0.000           0.000   \n",
       "19               0      0.000           1.570         0.000           0.000   \n",
       "0                0      0.850           6.395         0.750           1.050   \n",
       "37               0      0.950           6.690         0.730           0.990   \n",
       "26               0      0.000          49.165         0.000           7.675   \n",
       "31               0      0.480           5.730         0.600           0.990   \n",
       "18               0      1.860           4.555         0.260           0.000   \n",
       "29               0      0.180           5.200         0.390           0.000   \n",
       "34               0      0.160           6.720         0.850           1.240   \n",
       "46               0      0.000          81.765         0.000          43.690   \n",
       "16               0      0.600           7.170         0.760           1.410   \n",
       "23               0      0.000           0.000         0.000           0.000   \n",
       "21               0      0.230           3.070         0.100           0.280   \n",
       "4                0      0.465           5.660         0.505           1.270   \n",
       "32               0      0.180           5.870         0.360           1.810   \n",
       "27               0      0.000           2.200         0.530           0.000   \n",
       "1                0      0.480           1.840         0.150           0.260   \n",
       "30               0      0.190           6.810         0.120           1.610   \n",
       "45               0      0.000           0.730         0.000           0.000   \n",
       "2                0      0.550           1.920         0.000           0.000   \n",
       "15               0      0.055           5.400         0.240           0.665   \n",
       "44               0      0.000           3.800         0.000           0.920   \n",
       "17               0      1.090           4.770         0.000           0.000   \n",
       "3                0      0.000           2.790         0.000           0.000   \n",
       "8                0      0.000          17.170         0.000           3.260   \n",
       "20               0      0.010           4.130         0.000           0.400   \n",
       "11               0      0.000           0.700         0.000           0.000   \n",
       "22               0      2.600           0.070         0.000           0.000   \n",
       "35               0      0.000           6.060         0.000           0.000   \n",
       "28               0      0.780           9.120         0.000           0.000   \n",
       "\n",
       "    % Tobacco  \n",
       "9       0.000  \n",
       "5       0.000  \n",
       "14      0.000  \n",
       "36      0.000  \n",
       "25      0.000  \n",
       "24      0.000  \n",
       "39      0.000  \n",
       "33      0.000  \n",
       "40      0.000  \n",
       "41      0.010  \n",
       "38      0.000  \n",
       "42      0.000  \n",
       "43      0.000  \n",
       "7       0.000  \n",
       "10      0.010  \n",
       "13      0.000  \n",
       "6       0.000  \n",
       "12      0.000  \n",
       "19      0.000  \n",
       "0       0.515  \n",
       "37      0.610  \n",
       "26      0.000  \n",
       "31      0.310  \n",
       "18      0.000  \n",
       "29      0.000  \n",
       "34      0.660  \n",
       "46      0.000  \n",
       "16      0.810  \n",
       "23      0.000  \n",
       "21      0.210  \n",
       "4       0.440  \n",
       "32      0.290  \n",
       "27      1.820  \n",
       "1       0.680  \n",
       "30      0.530  \n",
       "45      0.000  \n",
       "2       0.000  \n",
       "15      0.435  \n",
       "44      0.000  \n",
       "17      0.000  \n",
       "3       0.000  \n",
       "8       0.000  \n",
       "20      0.300  \n",
       "11      0.000  \n",
       "22      0.000  \n",
       "35      0.000  \n",
       "28      0.000  "
      ]
     },
     "execution_count": 41,
     "metadata": {},
     "output_type": "execute_result"
    }
   ],
   "source": [
    "funds_df.groupby(by=['Morningstar Category'], as_index=False)['Yield (%)','YTD Return (%)','Animal Testing','% Alcohol','% Fossil Fuels','% Small Arms','% Thermal Coal','% Tobacco'].agg('median').sort_values(by ='YTD Return (%)', ascending = False)"
   ]
  },
  {
   "cell_type": "code",
   "execution_count": 42,
   "metadata": {
    "colab": {
     "base_uri": "https://localhost:8080/",
     "height": 968
    },
    "id": "vAeUYbETEiqI",
    "outputId": "09b22686-72d9-4bfe-9b55-2ebc2a364ce9"
   },
   "outputs": [
    {
     "data": {
      "text/plain": [
       "Text(0.5, 1.0, 'Correlation between Numerical features')"
      ]
     },
     "execution_count": 42,
     "metadata": {},
     "output_type": "execute_result"
    },
    {
     "data": {
      "image/png": "[encoded data removed]",
      "text/plain": [
       "<Figure size 1080x1080 with 2 Axes>"
      ]
     },
     "metadata": {
      "needs_background": "light"
     },
     "output_type": "display_data"
    }
   ],
   "source": [
    "#Check corelation primarily between Numerical linear features and target variable\n",
    "#Correlation is a measure used to represent how strongly two random variables are related to each other.\n",
    "#Correlation ranges between -1 and +1\n",
    "corr = funds_df.corr(method='pearson')\n",
    "plt.figure(figsize=(15,15))\n",
    "sns.heatmap(corr,vmax=.8,linewidth=.01, square = True, annot = True,cmap='YlGnBu',linecolor ='black')\n",
    "plt.title('Correlation between Numerical features')"
   ]
  },
  {
   "cell_type": "markdown",
   "metadata": {
    "id": "47do_cxsDnU6"
   },
   "source": [
    "<a name = Section7></a>\n",
    "\n",
    "---\n",
    "# **7. Data Post-Processing**\n",
    "---\n",
    "\n"
   ]
  },
  {
   "cell_type": "markdown",
   "metadata": {
    "id": "cG1bbgdYEz43"
   },
   "source": [
    "<a name = Section71></a>\n",
    "### **7.1 Data Encoding**\n",
    "\n",
    "- In this section, we will encode our categorical features as necessary and manipulate any column as necessary"
   ]
  },
  {
   "cell_type": "markdown",
   "metadata": {},
   "source": [
    "**Observations:**\n",
    "\n",
    "- "
   ]
  },
  {
   "cell_type": "markdown",
   "metadata": {},
   "source": [
    "We will try to see which feature are more important using RandomForestClassifier"
   ]
  },
  {
   "cell_type": "code",
   "execution_count": 43,
   "metadata": {
    "ExecuteTime": {
     "end_time": "2022-02-12T09:49:30.244738Z",
     "start_time": "2022-02-12T09:49:29.645006Z"
    }
   },
   "outputs": [],
   "source": [
    "y = funds_feature['Morningstar Sustainability Rating']"
   ]
  },
  {
   "cell_type": "code",
   "execution_count": 44,
   "metadata": {
    "ExecuteTime": {
     "end_time": "2022-02-12T09:49:30.248358Z",
     "start_time": "2022-02-12T09:49:30.248358Z"
    }
   },
   "outputs": [
    {
     "data": {
      "text/plain": [
       "0"
      ]
     },
     "execution_count": 44,
     "metadata": {},
     "output_type": "execute_result"
    }
   ],
   "source": [
    "y.isna().sum()"
   ]
  },
  {
   "cell_type": "code",
   "execution_count": 46,
   "metadata": {},
   "outputs": [
    {
     "data": {
      "text/plain": [
       "(5859,)"
      ]
     },
     "execution_count": 46,
     "metadata": {},
     "output_type": "execute_result"
    }
   ],
   "source": [
    "y.shape"
   ]
  },
  {
   "cell_type": "code",
   "execution_count": 45,
   "metadata": {},
   "outputs": [],
   "source": [
    "feature_select= funds_feature[['Yield (%)', 'Portfolio Sustainability Score', 'Portfolio Environmental Score', 'Portfolio Social Score', 'Portfolio Governance Score', '% Alcohol', '% Fossil Fuels', '% Small Arms', '% Thermal Coal', '% Tobacco', '3 Years Annualized (%)', '5 Years Annualized (%)', '10 Years Annualized (%)']]"
   ]
  },
  {
   "cell_type": "code",
   "execution_count": 46,
   "metadata": {},
   "outputs": [
    {
     "name": "stdout",
     "output_type": "stream",
     "text": [
      "Total Features Selected are 5\n",
      "Threshold set by Model: 0.08\n",
      "Features: ['Portfolio Sustainability Score', 'Portfolio Environmental Score', 'Portfolio Social Score', 'Portfolio Governance Score', '% Fossil Fuels']\n"
     ]
    }
   ],
   "source": [
    "from sklearn.feature_selection import SelectFromModel               # To select features from model using Yellow bricks\n",
    "from yellowbrick.model_selection import FeatureImportances \n",
    "from sklearn.ensemble import RandomForestClassifier   \n",
    "\n",
    "# Have some patience, may take some time :)\n",
    "selector = SelectFromModel(RandomForestClassifier(n_estimators = 100, random_state = 42, n_jobs = -1))\n",
    "selector.fit(feature_select, y)\n",
    "\n",
    "# Extracting list of important features\n",
    "selected_feat = feature_select.columns[(selector.get_support())].tolist()\n",
    "\n",
    "print('Total Features Selected are', len(selected_feat))\n",
    "\n",
    "# Estimated by taking mean(default) of feature importance\n",
    "print('Threshold set by Model:', np.round(selector.threshold_, decimals = 2))\n",
    "print('Features:', selected_feat)"
   ]
  },
  {
   "cell_type": "markdown",
   "metadata": {},
   "source": [
    "**Visualization of Important Features:**\n",
    "\n",
    "- Below features are plotted against their relative importance (in %age),  of each feature."
   ]
  },
  {
   "cell_type": "code",
   "execution_count": 47,
   "metadata": {},
   "outputs": [
    {
     "data": {
      "image/png": "[encoded data removed]",
      "text/plain": [
       "<Figure size 1440x864 with 1 Axes>"
      ]
     },
     "metadata": {},
     "output_type": "display_data"
    }
   ],
   "source": [
    "figure = plt.figure(figsize = [20, 12])\n",
    "\n",
    "# If you don't want relative importance, use relative = False in below method\n",
    "viz = FeatureImportances(selector.estimator, relative = False)\n",
    "viz.fit(feature_select, y)\n",
    "\n",
    "plt.xlabel('Relative Importance', size = 14)\n",
    "plt.ylabel('Features', size = 14)\n",
    "plt.title(label = 'Feature Importances', size = 16)\n",
    "plt.show()"
   ]
  },
  {
   "cell_type": "markdown",
   "metadata": {
    "id": "VTDUtk4ZE9NQ"
   },
   "source": [
    "<a name = Section72></a>\n",
    "### **7.2 Data Preparation**\n",
    "\n",
    "- Now we will **split** our **data** into **dependent** and **independent** variables for further development using holdout validation technique."
   ]
  },
  {
   "cell_type": "code",
   "execution_count": 48,
   "metadata": {
    "colab": {
     "base_uri": "https://localhost:8080/",
     "height": 1000
    },
    "id": "5J3OJTe-E9st",
    "outputId": "13c16dc0-d142-4108-d5cc-eabba9b4fea3",
    "scrolled": false
   },
   "outputs": [
    {
     "name": "stdout",
     "output_type": "stream",
     "text": [
      "X_train shape:  (4394, 13)\n",
      "y_train shape:  (4394,)\n",
      "X_test shape:  (1465, 13)\n",
      "y_test shape:  (1465,)\n",
      "<class 'pandas.core.frame.DataFrame'>\n",
      "Int64Index: 4394 entries, 5921 to 4102\n",
      "Data columns (total 13 columns):\n",
      " #   Column                          Non-Null Count  Dtype  \n",
      "---  ------                          --------------  -----  \n",
      " 0   Yield (%)                       4394 non-null   float64\n",
      " 1   Portfolio Sustainability Score  4394 non-null   float64\n",
      " 2   Portfolio Environmental Score   4394 non-null   float64\n",
      " 3   Portfolio Social Score          4394 non-null   float64\n",
      " 4   Portfolio Governance Score      4394 non-null   float64\n",
      " 5   % Alcohol                       4394 non-null   float64\n",
      " 6   % Fossil Fuels                  4394 non-null   float64\n",
      " 7   % Small Arms                    4394 non-null   float64\n",
      " 8   % Thermal Coal                  4394 non-null   float64\n",
      " 9   % Tobacco                       4394 non-null   float64\n",
      " 10  3 Years Annualized (%)          4394 non-null   float64\n",
      " 11  5 Years Annualized (%)          4394 non-null   float64\n",
      " 12  10 Years Annualized (%)         4394 non-null   float64\n",
      "dtypes: float64(13)\n",
      "memory usage: 480.6 KB\n"
     ]
    },
    {
     "data": {
      "text/html": [
       "<div>\n",
       "<style scoped>\n",
       "    .dataframe tbody tr th:only-of-type {\n",
       "        vertical-align: middle;\n",
       "    }\n",
       "\n",
       "    .dataframe tbody tr th {\n",
       "        vertical-align: top;\n",
       "    }\n",
       "\n",
       "    .dataframe thead th {\n",
       "        text-align: right;\n",
       "    }\n",
       "</style>\n",
       "<table border=\"1\" class=\"dataframe\">\n",
       "  <thead>\n",
       "    <tr style=\"text-align: right;\">\n",
       "      <th></th>\n",
       "      <th>Yield (%)</th>\n",
       "      <th>Portfolio Sustainability Score</th>\n",
       "      <th>Portfolio Environmental Score</th>\n",
       "      <th>Portfolio Social Score</th>\n",
       "      <th>Portfolio Governance Score</th>\n",
       "      <th>% Alcohol</th>\n",
       "      <th>% Fossil Fuels</th>\n",
       "      <th>% Small Arms</th>\n",
       "      <th>% Thermal Coal</th>\n",
       "      <th>% Tobacco</th>\n",
       "      <th>3 Years Annualized (%)</th>\n",
       "      <th>5 Years Annualized (%)</th>\n",
       "      <th>10 Years Annualized (%)</th>\n",
       "    </tr>\n",
       "  </thead>\n",
       "  <tbody>\n",
       "    <tr>\n",
       "      <th>5921</th>\n",
       "      <td>1.38</td>\n",
       "      <td>22.85</td>\n",
       "      <td>3.89</td>\n",
       "      <td>8.83</td>\n",
       "      <td>6.83</td>\n",
       "      <td>0.95</td>\n",
       "      <td>8.03</td>\n",
       "      <td>0.87</td>\n",
       "      <td>1.19</td>\n",
       "      <td>0.65</td>\n",
       "      <td>15.68</td>\n",
       "      <td>13.99</td>\n",
       "      <td>21.55</td>\n",
       "    </tr>\n",
       "    <tr>\n",
       "      <th>1313</th>\n",
       "      <td>1.00</td>\n",
       "      <td>24.66</td>\n",
       "      <td>3.83</td>\n",
       "      <td>11.10</td>\n",
       "      <td>7.05</td>\n",
       "      <td>0.00</td>\n",
       "      <td>3.55</td>\n",
       "      <td>0.23</td>\n",
       "      <td>1.51</td>\n",
       "      <td>0.77</td>\n",
       "      <td>4.27</td>\n",
       "      <td>2.76</td>\n",
       "      <td>2.05</td>\n",
       "    </tr>\n",
       "    <tr>\n",
       "      <th>5823</th>\n",
       "      <td>2.10</td>\n",
       "      <td>24.99</td>\n",
       "      <td>3.43</td>\n",
       "      <td>11.82</td>\n",
       "      <td>7.28</td>\n",
       "      <td>0.60</td>\n",
       "      <td>6.92</td>\n",
       "      <td>0.69</td>\n",
       "      <td>0.82</td>\n",
       "      <td>0.62</td>\n",
       "      <td>6.42</td>\n",
       "      <td>3.89</td>\n",
       "      <td>3.97</td>\n",
       "    </tr>\n",
       "    <tr>\n",
       "      <th>448</th>\n",
       "      <td>0.00</td>\n",
       "      <td>19.50</td>\n",
       "      <td>3.75</td>\n",
       "      <td>8.90</td>\n",
       "      <td>6.63</td>\n",
       "      <td>1.35</td>\n",
       "      <td>3.29</td>\n",
       "      <td>1.23</td>\n",
       "      <td>1.99</td>\n",
       "      <td>0.00</td>\n",
       "      <td>25.47</td>\n",
       "      <td>22.29</td>\n",
       "      <td>16.99</td>\n",
       "    </tr>\n",
       "    <tr>\n",
       "      <th>211</th>\n",
       "      <td>1.04</td>\n",
       "      <td>21.20</td>\n",
       "      <td>4.63</td>\n",
       "      <td>8.75</td>\n",
       "      <td>7.67</td>\n",
       "      <td>0.19</td>\n",
       "      <td>7.80</td>\n",
       "      <td>0.45</td>\n",
       "      <td>0.43</td>\n",
       "      <td>0.51</td>\n",
       "      <td>13.37</td>\n",
       "      <td>1.32</td>\n",
       "      <td>0.72</td>\n",
       "    </tr>\n",
       "  </tbody>\n",
       "</table>\n",
       "</div>"
      ],
      "text/plain": [
       "      Yield (%)  Portfolio Sustainability Score  \\\n",
       "5921       1.38                           22.85   \n",
       "1313       1.00                           24.66   \n",
       "5823       2.10                           24.99   \n",
       "448        0.00                           19.50   \n",
       "211        1.04                           21.20   \n",
       "\n",
       "      Portfolio Environmental Score  Portfolio Social Score  \\\n",
       "5921                           3.89                    8.83   \n",
       "1313                           3.83                   11.10   \n",
       "5823                           3.43                   11.82   \n",
       "448                            3.75                    8.90   \n",
       "211                            4.63                    8.75   \n",
       "\n",
       "      Portfolio Governance Score  % Alcohol  % Fossil Fuels  % Small Arms  \\\n",
       "5921                        6.83       0.95            8.03          0.87   \n",
       "1313                        7.05       0.00            3.55          0.23   \n",
       "5823                        7.28       0.60            6.92          0.69   \n",
       "448                         6.63       1.35            3.29          1.23   \n",
       "211                         7.67       0.19            7.80          0.45   \n",
       "\n",
       "      % Thermal Coal  % Tobacco  3 Years Annualized (%)  \\\n",
       "5921            1.19       0.65                   15.68   \n",
       "1313            1.51       0.77                    4.27   \n",
       "5823            0.82       0.62                    6.42   \n",
       "448             1.99       0.00                   25.47   \n",
       "211             0.43       0.51                   13.37   \n",
       "\n",
       "      5 Years Annualized (%)  10 Years Annualized (%)  \n",
       "5921                   13.99                    21.55  \n",
       "1313                    2.76                     2.05  \n",
       "5823                    3.89                     3.97  \n",
       "448                    22.29                    16.99  \n",
       "211                     1.32                     0.72  "
      ]
     },
     "execution_count": 48,
     "metadata": {},
     "output_type": "execute_result"
    }
   ],
   "source": [
    "# Splitting data into training and testing sets with using Validation Test Data as 25%\n",
    "X_train, X_test, y_train, y_test = train_test_split(feature_select, y, test_size=0.25, random_state=42, stratify=y)\n",
    "\n",
    "# Display the shape of training and testing data\n",
    "print('X_train shape: ', X_train.shape)\n",
    "print('y_train shape: ', y_train.shape)\n",
    "print('X_test shape: ', X_test.shape)\n",
    "print('y_test shape: ', y_test.shape)\n",
    "X_train.info()\n",
    "#X_train.columns\n",
    "X_train.head()"
   ]
  },
  {
   "cell_type": "markdown",
   "metadata": {
    "id": "oW7xFVEiEitF"
   },
   "source": [
    "<a name = Section73></a>\n",
    "### **7.3 Data Scaling**\n",
    "\n",
    "- Trying to evaluate model without any scaling of data."
   ]
  },
  {
   "cell_type": "markdown",
   "metadata": {
    "id": "K-mvuWsNFAYJ"
   },
   "source": [
    "<a name = Section8></a>\n",
    "\n",
    "---\n",
    "# **8. Model Development & Evaluation**\n",
    "---\n",
    "\n",
    "- In this section we will **develop a Logistic Regression model**\n",
    "\n",
    "- Then we will **analyze the results** obtained and **make our observations**.\n",
    "\n",
    "- For **evaluation purpose** we will **focus** on **Accuracy Score** score as required by this project."
   ]
  },
  {
   "cell_type": "markdown",
   "metadata": {
    "id": "susmBGv8TOPl"
   },
   "source": [
    "<a name = Section81></a>\n",
    "### **8.1 Baseline Model Development & Evaluation**\n",
    "\n",
    "- Here we will develop Logistic Regression classification model using default setting."
   ]
  },
  {
   "cell_type": "code",
   "execution_count": 49,
   "metadata": {
    "colab": {
     "base_uri": "https://localhost:8080/",
     "height": 462
    },
    "id": "aA5BQH1tE9pR",
    "outputId": "3e866eaf-8e2c-4afb-affb-6a845126075d"
   },
   "outputs": [
    {
     "data": {
      "image/png": "[encoded data removed]",
      "text/plain": [
       "<Figure size 1080x504 with 4 Axes>"
      ]
     },
     "metadata": {},
     "output_type": "display_data"
    }
   ],
   "source": [
    "# Instantiate a Logistic Regression\n",
    "logreg = LogisticRegression()\n",
    "logreg.fit(X_train,y_train)\n",
    "\n",
    "# Predicting training and testing labels\n",
    "y_train_pred_count = logreg.predict(X_train)\n",
    "y_test_pred_count = logreg.predict(X_test)\n",
    "\n",
    "# Plotting confusion maxtrix of train and test data\n",
    "fig, (ax1, ax2) = plt.subplots(nrows=1, ncols=2, sharex=False, figsize=(15, 7))\n",
    "plot_confusion_matrix(estimator=logreg, X=X_train, y_true=y_train, values_format='.5g', cmap='YlGnBu', ax=ax1)\n",
    "plot_confusion_matrix(estimator=logreg, X=X_test, y_true=y_test, values_format='.5g', cmap='YlGnBu', ax=ax2)\n",
    "ax1.set_title(label='Training Data', size=14)\n",
    "ax2.set_title(label='Validation Test Data', size=14)\n",
    "plt.suptitle(t='Confusion Matrix', size=16)\n",
    "plt.show()"
   ]
  },
  {
   "cell_type": "code",
   "execution_count": 50,
   "metadata": {},
   "outputs": [
    {
     "name": "stdout",
     "output_type": "stream",
     "text": [
      "            Predicted 1.0  Predicted 2.0  Predicted 3.0  Predicted 4.0  \\\n",
      "Actual 1.0              0              0              3              0   \n",
      "Actual 2.0              0              0             13              0   \n",
      "Actual 3.0              0              0            835             16   \n",
      "Actual 4.0              0              1            391             21   \n",
      "Actual 5.0              0              0            140             19   \n",
      "\n",
      "            Predicted 5.0  \n",
      "Actual 1.0              0  \n",
      "Actual 2.0              0  \n",
      "Actual 3.0              3  \n",
      "Actual 4.0             15  \n",
      "Actual 5.0              8  \n"
     ]
    }
   ],
   "source": [
    "confusion_matrix = pd.DataFrame(confusion_matrix(y_test, y_test_pred_count))\n",
    "confusion_matrix.index = ['Actual 1.0','Actual 2.0','Actual 3.0','Actual 4.0','Actual 5.0']\n",
    "confusion_matrix.columns = ['Predicted 1.0','Predicted 2.0','Predicted 3.0','Predicted 4.0','Predicted 5.0']\n",
    "print(confusion_matrix)"
   ]
  },
  {
   "cell_type": "code",
   "execution_count": 51,
   "metadata": {
    "colab": {
     "base_uri": "https://localhost:8080/"
    },
    "id": "yo-ZmUuWEitH",
    "outputId": "db47c543-21ac-420d-b45e-15064c3b605d"
   },
   "outputs": [
    {
     "name": "stdout",
     "output_type": "stream",
     "text": [
      "Accuracy score for test validation data is: 0.5897610921501707\n"
     ]
    }
   ],
   "source": [
    "print('Accuracy score for test validation data is:', accuracy_score(y_test,y_test_pred_count))"
   ]
  },
  {
   "cell_type": "code",
   "execution_count": 58,
   "metadata": {},
   "outputs": [
    {
     "data": {
      "text/plain": [
       "['../model/logreg.pkl']"
      ]
     },
     "execution_count": 58,
     "metadata": {},
     "output_type": "execute_result"
    }
   ],
   "source": [
    "import joblib\n",
    "joblib.dump(logreg,'../model/logreg.pkl')"
   ]
  },
  {
   "cell_type": "code",
   "execution_count": 59,
   "metadata": {},
   "outputs": [
    {
     "data": {
      "text/plain": [
       "array([3., 3., 3., ..., 3., 4., 3.])"
      ]
     },
     "execution_count": 59,
     "metadata": {},
     "output_type": "execute_result"
    }
   ],
   "source": [
    "random_clf = joblib.load('../model/logreg.pkl')\n",
    "random_clf.predict(X_test)"
   ]
  },
  {
   "cell_type": "code",
   "execution_count": 52,
   "metadata": {},
   "outputs": [
    {
     "name": "stdout",
     "output_type": "stream",
     "text": [
      "[0.60637088 0.57792947 0.57224118 0.60864619 0.57972665]\n",
      "[0.59158134 0.59499431 0.58589306 0.58930603 0.59567198]\n"
     ]
    }
   ],
   "source": [
    "# K Fold\n",
    "kf = KFold(shuffle=True, n_splits=5)\n",
    "cv_results_kfold = cross_val_score(logreg,X_train, y_train, cv=kf, scoring='accuracy')\n",
    "print(cv_results_kfold)\n",
    "\n",
    "# Stratified K fold\n",
    "\n",
    "skf = StratifiedKFold(shuffle=True, n_splits=5)\n",
    "cv_results_skfold = cross_val_score(logreg, X_train, y_train, cv=skf, scoring='accuracy')\n",
    "print(cv_results_skfold)"
   ]
  },
  {
   "cell_type": "code",
   "execution_count": 53,
   "metadata": {
    "colab": {
     "base_uri": "https://localhost:8080/"
    },
    "id": "ShNKXCKaHsfB",
    "outputId": "20b22da4-3414-48ee-fa6d-271e9feeb47d"
   },
   "outputs": [
    {
     "name": "stdout",
     "output_type": "stream",
     "text": [
      "                    Training Data Report          \n",
      "              precision    recall  f1-score   support\n",
      "\n",
      "         1.0       0.00      0.00      0.00         9\n",
      "         2.0       0.00      0.00      0.00        40\n",
      "         3.0       0.60      0.97      0.74      2559\n",
      "         4.0       0.47      0.06      0.11      1285\n",
      "         5.0       0.41      0.07      0.11       501\n",
      "\n",
      "    accuracy                           0.59      4394\n",
      "   macro avg       0.30      0.22      0.19      4394\n",
      "weighted avg       0.54      0.59      0.48      4394\n",
      "\n",
      "                    Test Validation Data Report           \n",
      "              precision    recall  f1-score   support\n",
      "\n",
      "         1.0       0.00      0.00      0.00         3\n",
      "         2.0       0.00      0.00      0.00        13\n",
      "         3.0       0.60      0.98      0.75       854\n",
      "         4.0       0.38      0.05      0.09       428\n",
      "         5.0       0.31      0.05      0.08       167\n",
      "\n",
      "    accuracy                           0.59      1465\n",
      "   macro avg       0.26      0.21      0.18      1465\n",
      "weighted avg       0.50      0.59      0.47      1465\n",
      "\n"
     ]
    }
   ],
   "source": [
    "train_report = classification_report(y_train, y_train_pred_count)\n",
    "test_report = classification_report(y_test, y_test_pred_count)\n",
    "print('                    Training Data Report          ')\n",
    "print(train_report)\n",
    "print('                    Test Validation Data Report           ')\n",
    "print(test_report)"
   ]
  }
 ],
 "metadata": {
  "colab": {
   "collapsed_sections": [],
   "name": "Customer_classification.ipynb",
   "provenance": []
  },
  "kernelspec": {
   "display_name": "Python 3",
   "language": "python",
   "name": "python3"
  },
  "language_info": {
   "codemirror_mode": {
    "name": "ipython",
    "version": 3
   },
   "file_extension": ".py",
   "mimetype": "text/x-python",
   "name": "python",
   "nbconvert_exporter": "python",
   "pygments_lexer": "ipython3",
   "version": "3.8.8"
  },
  "latex_envs": {
   "LaTeX_envs_menu_present": true,
   "autoclose": false,
   "autocomplete": true,
   "bibliofile": "biblio.bib",
   "cite_by": "apalike",
   "current_citInitial": 1,
   "eqLabelWithNumbers": true,
   "eqNumInitial": 1,
   "hotkeys": {
    "equation": "Ctrl-E",
    "itemize": "Ctrl-I"
   },
   "labels_anchors": false,
   "latex_user_defs": false,
   "report_style_numbering": false,
   "user_envs_cfg": false
  }
 },
 "nbformat": 4,
 "nbformat_minor": 1
}
